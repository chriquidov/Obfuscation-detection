{
 "cells": [
  {
   "cell_type": "code",
   "execution_count": 1,
   "metadata": {},
   "outputs": [],
   "source": [
    "import numpy as np, pandas as pd, os, pickle\n",
    "import gensim\n",
    "from IPython.display import Audio, display\n"
   ]
  },
  {
   "cell_type": "markdown",
   "metadata": {},
   "source": [
    "# Load the D2V model "
   ]
  },
  {
   "cell_type": "code",
   "execution_count": 2,
   "metadata": {},
   "outputs": [],
   "source": [
    "import tensorflow\n",
    "from tensorflow import keras\n",
    "\n",
    "from gensim.models.doc2vec import Doc2Vec"
   ]
  },
  {
   "cell_type": "code",
   "execution_count": 3,
   "metadata": {},
   "outputs": [],
   "source": [
    "#load the Doc2Vec model \n",
    "model = Doc2Vec.load(r'C:\\Users\\Elana laptop\\Desktop\\HebU Big Data\\Fall 2021\\Machine Learning\\Final Project\\doc2vecmodel')\n"
   ]
  },
  {
   "cell_type": "code",
   "execution_count": 129,
   "metadata": {},
   "outputs": [
    {
     "data": {
      "text/plain": [
       "gensim.models.doc2vec.Doc2Vec"
      ]
     },
     "execution_count": 129,
     "metadata": {},
     "output_type": "execute_result"
    }
   ],
   "source": [
    "type(model)"
   ]
  },
  {
   "cell_type": "code",
   "execution_count": 130,
   "metadata": {},
   "outputs": [],
   "source": [
    "#load the train_corpus from zipped pickle\n",
    "import bz2\n",
    "import pickle\n",
    "import _pickle as cPickle\n",
    "\n",
    "def decompress_pickle(file):\n",
    "    data = bz2.BZ2File(file, 'rb')\n",
    "    data = cPickle.load(data)\n",
    "    return data\n",
    "train_corpus=decompress_pickle(r'C:\\Users\\Elana laptop\\Desktop\\HebU Big Data\\Fall 2021\\Machine Learning\\Final Project\\train_corpus.pickle.pbz2')\n"
   ]
  },
  {
   "cell_type": "code",
   "execution_count": 131,
   "metadata": {},
   "outputs": [],
   "source": [
    "def getVecs(model_name, corpus, size):\n",
    "    vecs = [np.array(model_name[z.tags[0]]).reshape((1, size)) for z in corpus]\n",
    "    return np.concatenate(vecs)\n",
    "train_vecs_dm = getVecs(model, train_corpus, 100) #use 100 because that is the length of the vector"
   ]
  },
  {
   "cell_type": "code",
   "execution_count": 132,
   "metadata": {},
   "outputs": [
    {
     "data": {
      "text/plain": [
       "(150040, 100)"
      ]
     },
     "execution_count": 132,
     "metadata": {},
     "output_type": "execute_result"
    }
   ],
   "source": [
    "train_vecs_dm.shape"
   ]
  },
  {
   "cell_type": "markdown",
   "metadata": {},
   "source": [
    "# Prepare the Labels"
   ]
  },
  {
   "cell_type": "code",
   "execution_count": 133,
   "metadata": {},
   "outputs": [
    {
     "data": {
      "text/plain": [
       "(150040, 2)"
      ]
     },
     "execution_count": 133,
     "metadata": {},
     "output_type": "execute_result"
    }
   ],
   "source": [
    "file_name  = r'C:\\Users\\Elana laptop\\Desktop\\HebU Big Data\\Fall 2021\\Machine Learning\\Final Project\\labels.pickle'\n",
    "train_labels_onehot=pd.read_pickle(file_name)\n",
    "train_labels_onehot.shape"
   ]
  },
  {
   "cell_type": "code",
   "execution_count": null,
   "metadata": {},
   "outputs": [],
   "source": []
  },
  {
   "cell_type": "markdown",
   "metadata": {},
   "source": [
    "# split the data into train and validation"
   ]
  },
  {
   "cell_type": "code",
   "execution_count": 134,
   "metadata": {},
   "outputs": [
    {
     "name": "stdout",
     "output_type": "stream",
     "text": [
      "120032 30008 120032 30008\n"
     ]
    }
   ],
   "source": [
    "from sklearn.model_selection import train_test_split\n",
    "X_train, X_test, y_train, y_test = train_test_split(train_vecs_dm,train_labels_onehot,train_size=0.8, random_state=0)\n",
    "print (len(X_train),len(X_test),len(y_train),len(y_test))"
   ]
  },
  {
   "cell_type": "code",
   "execution_count": null,
   "metadata": {},
   "outputs": [],
   "source": [
    "from sklearn.metrics import f1_score"
   ]
  },
  {
   "cell_type": "markdown",
   "metadata": {},
   "source": [
    "# create a neural network model"
   ]
  },
  {
   "cell_type": "markdown",
   "metadata": {},
   "source": [
    "first model: 1 hidden layer with 50 nuerons, 10% dropout, 10 epochs"
   ]
  },
  {
   "cell_type": "code",
   "execution_count": 135,
   "metadata": {},
   "outputs": [],
   "source": [
    "from keras.models import Sequential\n",
    "from keras.layers import Dense,Dropout\n",
    "from datetime import datetime\n",
    "\n",
    "def create_model(neurons1, dropout, output):\n",
    "    #model1 = Sequential([keras.layers.Dense(units=1,input_shape=[100,5])]) \n",
    "    model1 = Sequential() \n",
    "    model1.add(Dense(neurons1, activation='relu')) \n",
    "    model1.add(Dropout(dropout))\n",
    "    model1.add(Dense(output, activation='sigmoid'))\n",
    "    return model1\n",
    "\n",
    "model1=create_model(50,.1,2)\n",
    "#compile the model\n",
    "model1.compile(loss='binary_crossentropy',optimizer='adam', metrics=['accuracy'])  \n",
    "\n",
    "#model1.summary()"
   ]
  },
  {
   "cell_type": "code",
   "execution_count": 145,
   "metadata": {},
   "outputs": [
    {
     "name": "stdout",
     "output_type": "stream",
     "text": [
      "Epoch 1/10\n",
      "1201/1201 - 2s - loss: 0.3031 - accuracy: 0.8670 - val_loss: 0.2988 - val_accuracy: 0.8704 - 2s/epoch - 2ms/step\n",
      "Epoch 2/10\n",
      "1201/1201 - 2s - loss: 0.3019 - accuracy: 0.8676 - val_loss: 0.2994 - val_accuracy: 0.8707 - 2s/epoch - 1ms/step\n",
      "Epoch 3/10\n",
      "1201/1201 - 1s - loss: 0.3021 - accuracy: 0.8668 - val_loss: 0.2977 - val_accuracy: 0.8706 - 1s/epoch - 1ms/step\n",
      "Epoch 4/10\n",
      "1201/1201 - 2s - loss: 0.3015 - accuracy: 0.8679 - val_loss: 0.2972 - val_accuracy: 0.8706 - 2s/epoch - 1ms/step\n",
      "Epoch 5/10\n",
      "1201/1201 - 2s - loss: 0.3013 - accuracy: 0.8686 - val_loss: 0.2974 - val_accuracy: 0.8700 - 2s/epoch - 1ms/step\n",
      "Epoch 6/10\n",
      "1201/1201 - 2s - loss: 0.3006 - accuracy: 0.8682 - val_loss: 0.2974 - val_accuracy: 0.8709 - 2s/epoch - 1ms/step\n",
      "Epoch 7/10\n",
      "1201/1201 - 1s - loss: 0.3007 - accuracy: 0.8681 - val_loss: 0.2967 - val_accuracy: 0.8705 - 1s/epoch - 1ms/step\n",
      "Epoch 8/10\n",
      "1201/1201 - 1s - loss: 0.3000 - accuracy: 0.8684 - val_loss: 0.2965 - val_accuracy: 0.8711 - 1s/epoch - 1ms/step\n",
      "Epoch 9/10\n",
      "1201/1201 - 1s - loss: 0.3001 - accuracy: 0.8679 - val_loss: 0.2961 - val_accuracy: 0.8725 - 1s/epoch - 1ms/step\n",
      "Epoch 10/10\n",
      "1201/1201 - 1s - loss: 0.2993 - accuracy: 0.8687 - val_loss: 0.2981 - val_accuracy: 0.8700 - 1s/epoch - 1ms/step\n",
      "Testing F1 score: 0.8747753530166881\n"
     ]
    }
   ],
   "source": [
    "history = model1.fit(X_train, y_train, epochs=10,batch_size=100,validation_data=(X_test, y_test),verbose=2)\n",
    "print('Testing F1 score: {}'.format(f1_score(np.argmax(y_test,axis=1), np.argmax(model1.predict(X_test), axis=1))))"
   ]
  },
  {
   "cell_type": "code",
   "execution_count": 146,
   "metadata": {},
   "outputs": [
    {
     "name": "stdout",
     "output_type": "stream",
     "text": [
      "INFO:tensorflow:Assets written to: C:\\Users\\Elana laptop\\Desktop\\HebU Big Data\\Fall 2021\\Machine Learning\\Final Project\\model1Blayer50neurons\\assets\n"
     ]
    }
   ],
   "source": [
    "model1.save(r'C:\\Users\\Elana laptop\\Desktop\\HebU Big Data\\Fall 2021\\Machine Learning\\Final Project\\model1Blayer50neurons')"
   ]
  },
  {
   "cell_type": "code",
   "execution_count": 147,
   "metadata": {},
   "outputs": [],
   "source": [
    "pd.DataFrame(history.history).to_csv(r'C:\\Users\\Elana laptop\\Desktop\\HebU Big Data\\Fall 2021\\Machine Learning\\Final Project\\model1Blayer50neurons.csv')"
   ]
  },
  {
   "cell_type": "code",
   "execution_count": 148,
   "metadata": {},
   "outputs": [],
   "source": [
    "history = pd.read_csv(r'C:\\Users\\Elana laptop\\Desktop\\HebU Big Data\\Fall 2021\\Machine Learning\\Final Project\\model1Blayer50neurons.csv', index_col=0)"
   ]
  },
  {
   "cell_type": "code",
   "execution_count": 149,
   "metadata": {},
   "outputs": [
    {
     "data": {
      "text/html": [
       "<div>\n",
       "<style scoped>\n",
       "    .dataframe tbody tr th:only-of-type {\n",
       "        vertical-align: middle;\n",
       "    }\n",
       "\n",
       "    .dataframe tbody tr th {\n",
       "        vertical-align: top;\n",
       "    }\n",
       "\n",
       "    .dataframe thead th {\n",
       "        text-align: right;\n",
       "    }\n",
       "</style>\n",
       "<table border=\"1\" class=\"dataframe\">\n",
       "  <thead>\n",
       "    <tr style=\"text-align: right;\">\n",
       "      <th></th>\n",
       "      <th>loss</th>\n",
       "      <th>accuracy</th>\n",
       "      <th>val_loss</th>\n",
       "      <th>val_accuracy</th>\n",
       "    </tr>\n",
       "  </thead>\n",
       "  <tbody>\n",
       "    <tr>\n",
       "      <th>0</th>\n",
       "      <td>0.303051</td>\n",
       "      <td>0.866960</td>\n",
       "      <td>0.298783</td>\n",
       "      <td>0.870401</td>\n",
       "    </tr>\n",
       "    <tr>\n",
       "      <th>1</th>\n",
       "      <td>0.301861</td>\n",
       "      <td>0.867635</td>\n",
       "      <td>0.299433</td>\n",
       "      <td>0.870668</td>\n",
       "    </tr>\n",
       "    <tr>\n",
       "      <th>2</th>\n",
       "      <td>0.302082</td>\n",
       "      <td>0.866819</td>\n",
       "      <td>0.297748</td>\n",
       "      <td>0.870634</td>\n",
       "    </tr>\n",
       "    <tr>\n",
       "      <th>3</th>\n",
       "      <td>0.301472</td>\n",
       "      <td>0.867927</td>\n",
       "      <td>0.297208</td>\n",
       "      <td>0.870568</td>\n",
       "    </tr>\n",
       "    <tr>\n",
       "      <th>4</th>\n",
       "      <td>0.301313</td>\n",
       "      <td>0.868552</td>\n",
       "      <td>0.297360</td>\n",
       "      <td>0.869968</td>\n",
       "    </tr>\n",
       "    <tr>\n",
       "      <th>5</th>\n",
       "      <td>0.300569</td>\n",
       "      <td>0.868227</td>\n",
       "      <td>0.297373</td>\n",
       "      <td>0.870901</td>\n",
       "    </tr>\n",
       "    <tr>\n",
       "      <th>6</th>\n",
       "      <td>0.300732</td>\n",
       "      <td>0.868127</td>\n",
       "      <td>0.296684</td>\n",
       "      <td>0.870535</td>\n",
       "    </tr>\n",
       "    <tr>\n",
       "      <th>7</th>\n",
       "      <td>0.300034</td>\n",
       "      <td>0.868393</td>\n",
       "      <td>0.296498</td>\n",
       "      <td>0.871101</td>\n",
       "    </tr>\n",
       "    <tr>\n",
       "      <th>8</th>\n",
       "      <td>0.300137</td>\n",
       "      <td>0.867944</td>\n",
       "      <td>0.296128</td>\n",
       "      <td>0.872534</td>\n",
       "    </tr>\n",
       "    <tr>\n",
       "      <th>9</th>\n",
       "      <td>0.299318</td>\n",
       "      <td>0.868718</td>\n",
       "      <td>0.298115</td>\n",
       "      <td>0.869968</td>\n",
       "    </tr>\n",
       "  </tbody>\n",
       "</table>\n",
       "</div>"
      ],
      "text/plain": [
       "       loss  accuracy  val_loss  val_accuracy\n",
       "0  0.303051  0.866960  0.298783      0.870401\n",
       "1  0.301861  0.867635  0.299433      0.870668\n",
       "2  0.302082  0.866819  0.297748      0.870634\n",
       "3  0.301472  0.867927  0.297208      0.870568\n",
       "4  0.301313  0.868552  0.297360      0.869968\n",
       "5  0.300569  0.868227  0.297373      0.870901\n",
       "6  0.300732  0.868127  0.296684      0.870535\n",
       "7  0.300034  0.868393  0.296498      0.871101\n",
       "8  0.300137  0.867944  0.296128      0.872534\n",
       "9  0.299318  0.868718  0.298115      0.869968"
      ]
     },
     "execution_count": 149,
     "metadata": {},
     "output_type": "execute_result"
    }
   ],
   "source": [
    "history"
   ]
  },
  {
   "cell_type": "code",
   "execution_count": 150,
   "metadata": {},
   "outputs": [
    {
     "data": {
      "image/png": "[encoded data removed]",
      "text/plain": [
       "<Figure size 864x648 with 1 Axes>"
      ]
     },
     "metadata": {
      "needs_background": "light"
     },
     "output_type": "display_data"
    }
   ],
   "source": [
    "import matplotlib.pyplot as plt\n",
    "plt.figure(figsize=(12,9))\n",
    "plt.plot(history['accuracy'], label='train set accuracy')\n",
    "plt.plot(history['val_accuracy'], label='validation set accuracy')\n",
    "_, accuracy = model1.evaluate(X_test, y_test, verbose=0)\n",
    "plt.plot( np.full( (len(history['val_accuracy']),),fill_value=accuracy), label=f'test: {accuracy:3.3f}');\n",
    "plt.grid(True); plt.legend();"
   ]
  },
  {
   "cell_type": "markdown",
   "metadata": {},
   "source": [
    "second model: 10 layers 300 neurons each, 50 epochs"
   ]
  },
  {
   "cell_type": "code",
   "execution_count": 151,
   "metadata": {},
   "outputs": [],
   "source": [
    "from keras.models import Sequential\n",
    "from keras.layers import Dense,Dropout,BatchNormalization\n",
    "from datetime import datetime\n",
    "\n",
    "def create_model(neurons1, output):\n",
    "    #layer 1\n",
    "    model1 = Sequential() \n",
    "    model1.add(Dense(neurons1, activation='relu')) \n",
    "    #layer 2\n",
    "    model1.add(Dense(neurons1, activation='relu')) \n",
    "     #layer 3\n",
    "    model1.add(Dense(neurons1, activation='relu')) \n",
    "     #layer 4\n",
    "    model1.add(Dense(neurons1, activation='relu')) \n",
    "     #layer 5\n",
    "    model1.add(Dense(neurons1, activation='relu')) \n",
    "     #layer 6\n",
    "    model1.add(Dense(neurons1, activation='relu')) \n",
    "     #layer 7\n",
    "    model1.add(Dense(neurons1, activation='relu')) \n",
    "     #layer 8\n",
    "    model1.add(Dense(neurons1, activation='relu')) \n",
    "     #layer 9\n",
    "    model1.add(Dense(neurons1, activation='relu')) \n",
    "     #layer 10\n",
    "    model1.add(Dense(neurons1, activation='relu')) \n",
    "    model1.add(Dense(output, activation='sigmoid'))\n",
    "    return model1\n",
    "\n",
    "model1=create_model(300,2)\n",
    "#compile the model\n",
    "model1.compile(loss='binary_crossentropy',optimizer='adam', metrics=['accuracy'])  \n"
   ]
  },
  {
   "cell_type": "code",
   "execution_count": 153,
   "metadata": {},
   "outputs": [
    {
     "name": "stdout",
     "output_type": "stream",
     "text": [
      "Epoch 1/25\n",
      "1201/1201 - 10s - loss: 0.2094 - accuracy: 0.9081 - val_loss: 0.3572 - val_accuracy: 0.8678 - 10s/epoch - 8ms/step\n",
      "Epoch 2/25\n",
      "1201/1201 - 10s - loss: 0.2056 - accuracy: 0.9103 - val_loss: 0.3819 - val_accuracy: 0.8674 - 10s/epoch - 8ms/step\n",
      "Epoch 3/25\n",
      "1201/1201 - 10s - loss: 0.2043 - accuracy: 0.9106 - val_loss: 0.3710 - val_accuracy: 0.8670 - 10s/epoch - 8ms/step\n",
      "Epoch 4/25\n",
      "1201/1201 - 10s - loss: 0.1984 - accuracy: 0.9134 - val_loss: 0.3778 - val_accuracy: 0.8642 - 10s/epoch - 8ms/step\n",
      "Epoch 5/25\n",
      "1201/1201 - 10s - loss: 0.1951 - accuracy: 0.9155 - val_loss: 0.3852 - val_accuracy: 0.8631 - 10s/epoch - 8ms/step\n",
      "Epoch 6/25\n",
      "1201/1201 - 10s - loss: 0.1940 - accuracy: 0.9168 - val_loss: 0.4538 - val_accuracy: 0.8642 - 10s/epoch - 9ms/step\n",
      "Epoch 7/25\n",
      "1201/1201 - 10s - loss: 0.1912 - accuracy: 0.9172 - val_loss: 0.4052 - val_accuracy: 0.8647 - 10s/epoch - 9ms/step\n",
      "Epoch 8/25\n",
      "1201/1201 - 11s - loss: 0.1852 - accuracy: 0.9199 - val_loss: 0.4324 - val_accuracy: 0.8637 - 11s/epoch - 9ms/step\n",
      "Epoch 9/25\n",
      "1201/1201 - 11s - loss: 0.1818 - accuracy: 0.9214 - val_loss: 0.4075 - val_accuracy: 0.8626 - 11s/epoch - 9ms/step\n",
      "Epoch 10/25\n",
      "1201/1201 - 11s - loss: 0.1792 - accuracy: 0.9233 - val_loss: 0.4187 - val_accuracy: 0.8632 - 11s/epoch - 9ms/step\n",
      "Epoch 11/25\n",
      "1201/1201 - 11s - loss: 0.1780 - accuracy: 0.9234 - val_loss: 0.4596 - val_accuracy: 0.8587 - 11s/epoch - 9ms/step\n",
      "Epoch 12/25\n",
      "1201/1201 - 10s - loss: 0.1718 - accuracy: 0.9261 - val_loss: 0.4508 - val_accuracy: 0.8587 - 10s/epoch - 8ms/step\n",
      "Epoch 13/25\n",
      "1201/1201 - 11s - loss: 0.1699 - accuracy: 0.9275 - val_loss: 0.5186 - val_accuracy: 0.8630 - 11s/epoch - 9ms/step\n",
      "Epoch 14/25\n",
      "1201/1201 - 10s - loss: 0.1663 - accuracy: 0.9290 - val_loss: 0.4547 - val_accuracy: 0.8595 - 10s/epoch - 9ms/step\n",
      "Epoch 15/25\n",
      "1201/1201 - 12s - loss: 0.1629 - accuracy: 0.9308 - val_loss: 0.4431 - val_accuracy: 0.8527 - 12s/epoch - 10ms/step\n",
      "Epoch 16/25\n",
      "1201/1201 - 10s - loss: 0.1592 - accuracy: 0.9319 - val_loss: 0.8202 - val_accuracy: 0.8629 - 10s/epoch - 8ms/step\n",
      "Epoch 17/25\n",
      "1201/1201 - 11s - loss: 0.1581 - accuracy: 0.9329 - val_loss: 0.8886 - val_accuracy: 0.8635 - 11s/epoch - 9ms/step\n",
      "Epoch 18/25\n",
      "1201/1201 - 12s - loss: 0.1617 - accuracy: 0.9321 - val_loss: 0.4390 - val_accuracy: 0.8601 - 12s/epoch - 10ms/step\n",
      "Epoch 19/25\n",
      "1201/1201 - 11s - loss: 0.1533 - accuracy: 0.9353 - val_loss: 0.7001 - val_accuracy: 0.8569 - 11s/epoch - 9ms/step\n",
      "Epoch 20/25\n",
      "1201/1201 - 15s - loss: 0.1477 - accuracy: 0.9370 - val_loss: 0.8592 - val_accuracy: 0.8598 - 15s/epoch - 12ms/step\n",
      "Epoch 21/25\n",
      "1201/1201 - 9s - loss: 0.1529 - accuracy: 0.9374 - val_loss: 0.4550 - val_accuracy: 0.8607 - 9s/epoch - 8ms/step\n",
      "Epoch 22/25\n",
      "1201/1201 - 9s - loss: 0.1433 - accuracy: 0.9395 - val_loss: 0.5452 - val_accuracy: 0.8584 - 9s/epoch - 8ms/step\n",
      "Epoch 23/25\n",
      "1201/1201 - 10s - loss: 0.1408 - accuracy: 0.9407 - val_loss: 0.5443 - val_accuracy: 0.8562 - 10s/epoch - 8ms/step\n",
      "Epoch 24/25\n",
      "1201/1201 - 10s - loss: 0.1421 - accuracy: 0.9405 - val_loss: 0.4608 - val_accuracy: 0.8543 - 10s/epoch - 9ms/step\n",
      "Epoch 25/25\n",
      "1201/1201 - 10s - loss: 0.1401 - accuracy: 0.9416 - val_loss: 0.5224 - val_accuracy: 0.8594 - 10s/epoch - 8ms/step\n",
      "INFO:tensorflow:Assets written to: C:\\Users\\Elana laptop\\Desktop\\HebU Big Data\\Fall 2021\\Machine Learning\\Final Project\\nn10layers300nueronsB\\assets\n",
      "training time 0:04:24.531121\n",
      "Validation F1 score: 0.8593718743748748\n"
     ]
    }
   ],
   "source": [
    "start=datetime.now()\n",
    "history = model1.fit(X_train, y_train, epochs=25,batch_size=100,validation_data=(X_test, y_test),verbose=2)\n",
    "model1.save(r'C:\\Users\\Elana laptop\\Desktop\\HebU Big Data\\Fall 2021\\Machine Learning\\Final Project\\nn10layers300nueronsB')\n",
    "pd.DataFrame(history.history).to_csv(r'C:\\Users\\Elana laptop\\Desktop\\HebU Big Data\\Fall 2021\\Machine Learning\\Final Project\\nn10layers300nueronsB.csv')\n",
    "finish = datetime.now()\n",
    "\n",
    "print(\"training time\", finish-start)\n",
    "\n",
    "print('Validation F1 score: {}'.format(f1_score(np.argmax(y_test,axis=1), np.argmax(model1.predict(X_test), axis=1))))"
   ]
  },
  {
   "cell_type": "code",
   "execution_count": 154,
   "metadata": {},
   "outputs": [],
   "source": [
    "history = pd.read_csv(r'C:\\Users\\Elana laptop\\Desktop\\HebU Big Data\\Fall 2021\\Machine Learning\\Final Project\\nn10layers300nueronsB.csv', index_col=0)\n"
   ]
  },
  {
   "cell_type": "code",
   "execution_count": 155,
   "metadata": {},
   "outputs": [
    {
     "data": {
      "image/png": "[encoded data removed]",
      "text/plain": [
       "<Figure size 864x648 with 1 Axes>"
      ]
     },
     "metadata": {
      "needs_background": "light"
     },
     "output_type": "display_data"
    }
   ],
   "source": [
    "import matplotlib.pyplot as plt\n",
    "plt.figure(figsize=(12,9))\n",
    "plt.plot(history['accuracy'], label='train set accuracy')\n",
    "plt.plot(history['val_accuracy'], label='validation set accuracy')\n",
    "_, accuracy = model1.evaluate(X_test, y_test, verbose=0)\n",
    "plt.plot( np.full( (len(history['val_accuracy']),),fill_value=accuracy), label=f'test: {accuracy:3.3f}');\n",
    "plt.grid(True); plt.legend();"
   ]
  },
  {
   "cell_type": "markdown",
   "metadata": {},
   "source": [
    "note: the second model shows a lot of overfitting and the validation accuracy actually starts to decrease"
   ]
  },
  {
   "cell_type": "markdown",
   "metadata": {},
   "source": [
    "third model: 5 layers of 300 neurons each with batch norm and dropout"
   ]
  },
  {
   "cell_type": "code",
   "execution_count": 163,
   "metadata": {},
   "outputs": [],
   "source": [
    "from keras.models import Sequential\n",
    "from keras.layers import Dense,Dropout,BatchNormalization\n",
    "from datetime import datetime\n",
    "\n",
    "def create_model(neurons1, dropout, output):\n",
    "    #layer 1\n",
    "    model1 = Sequential() \n",
    "    model1.add(Dense(neurons1, activation='relu')) \n",
    "    model1.add(Dropout(dropout))\n",
    "    model1.add(BatchNormalization())\n",
    "    #layer 2\n",
    "    model1.add(Dense(neurons1, activation='relu')) \n",
    "    model1.add(Dropout(dropout))\n",
    "    model1.add(BatchNormalization())\n",
    "     #layer 3\n",
    "    model1.add(Dense(neurons1, activation='relu')) \n",
    "    model1.add(Dropout(dropout))\n",
    "    model1.add(BatchNormalization())\n",
    "     #layer 4\n",
    "    model1.add(Dense(neurons1, activation='relu')) \n",
    "    model1.add(Dropout(dropout))\n",
    "    model1.add(BatchNormalization())\n",
    "     #layer 5\n",
    "    model1.add(Dense(neurons1, activation='relu')) \n",
    "    model1.add(Dropout(dropout))\n",
    "    model1.add(BatchNormalization())\n",
    "    model1.add(Dense(output, activation='sigmoid'))\n",
    "    return model1\n",
    "\n",
    "model1=create_model(300,.1,2)\n",
    "#compile the model\n",
    "model1.compile(loss='binary_crossentropy',optimizer='adam', metrics=['accuracy'])  \n",
    "\n"
   ]
  },
  {
   "cell_type": "code",
   "execution_count": 164,
   "metadata": {},
   "outputs": [
    {
     "name": "stdout",
     "output_type": "stream",
     "text": [
      "Epoch 1/20\n",
      "1201/1201 - 17s - loss: 0.3463 - accuracy: 0.8461 - val_loss: 0.4030 - val_accuracy: 0.7896 - 17s/epoch - 14ms/step\n",
      "Epoch 2/20\n",
      "1201/1201 - 11s - loss: 0.3261 - accuracy: 0.8556 - val_loss: 0.4176 - val_accuracy: 0.7878 - 11s/epoch - 9ms/step\n",
      "Epoch 3/20\n",
      "1201/1201 - 10s - loss: 0.3205 - accuracy: 0.8578 - val_loss: 0.4552 - val_accuracy: 0.7731 - 10s/epoch - 8ms/step\n",
      "Epoch 4/20\n",
      "1201/1201 - 10s - loss: 0.3168 - accuracy: 0.8595 - val_loss: 0.4894 - val_accuracy: 0.7366 - 10s/epoch - 8ms/step\n",
      "Epoch 5/20\n",
      "1201/1201 - 9s - loss: 0.3152 - accuracy: 0.8609 - val_loss: 0.4942 - val_accuracy: 0.7090 - 9s/epoch - 8ms/step\n",
      "Epoch 6/20\n",
      "1201/1201 - 10s - loss: 0.3147 - accuracy: 0.8605 - val_loss: 0.5930 - val_accuracy: 0.5904 - 10s/epoch - 8ms/step\n",
      "Epoch 7/20\n",
      "1201/1201 - 10s - loss: 0.3115 - accuracy: 0.8624 - val_loss: 0.5268 - val_accuracy: 0.6621 - 10s/epoch - 8ms/step\n",
      "Epoch 8/20\n",
      "1201/1201 - 10s - loss: 0.3096 - accuracy: 0.8632 - val_loss: 0.5618 - val_accuracy: 0.6307 - 10s/epoch - 9ms/step\n",
      "Epoch 9/20\n",
      "1201/1201 - 10s - loss: 0.3085 - accuracy: 0.8637 - val_loss: 0.5193 - val_accuracy: 0.6954 - 10s/epoch - 8ms/step\n",
      "Epoch 10/20\n",
      "1201/1201 - 10s - loss: 0.3077 - accuracy: 0.8646 - val_loss: 0.5406 - val_accuracy: 0.6561 - 10s/epoch - 8ms/step\n",
      "Epoch 11/20\n",
      "1201/1201 - 10s - loss: 0.3059 - accuracy: 0.8656 - val_loss: 0.5407 - val_accuracy: 0.6752 - 10s/epoch - 8ms/step\n",
      "Epoch 12/20\n",
      "1201/1201 - 10s - loss: 0.3042 - accuracy: 0.8669 - val_loss: 0.5956 - val_accuracy: 0.6196 - 10s/epoch - 9ms/step\n",
      "Epoch 13/20\n",
      "1201/1201 - 9s - loss: 0.3025 - accuracy: 0.8658 - val_loss: 0.5937 - val_accuracy: 0.5897 - 9s/epoch - 8ms/step\n",
      "Epoch 14/20\n",
      "1201/1201 - 10s - loss: 0.3028 - accuracy: 0.8667 - val_loss: 0.7120 - val_accuracy: 0.5466 - 10s/epoch - 9ms/step\n",
      "Epoch 15/20\n",
      "1201/1201 - 11s - loss: 0.3013 - accuracy: 0.8671 - val_loss: 0.8080 - val_accuracy: 0.5266 - 11s/epoch - 9ms/step\n",
      "Epoch 16/20\n",
      "1201/1201 - 10s - loss: 0.3006 - accuracy: 0.8671 - val_loss: 0.5887 - val_accuracy: 0.6167 - 10s/epoch - 8ms/step\n",
      "Epoch 17/20\n",
      "1201/1201 - 10s - loss: 0.3006 - accuracy: 0.8688 - val_loss: 0.7438 - val_accuracy: 0.5217 - 10s/epoch - 8ms/step\n",
      "Epoch 18/20\n",
      "1201/1201 - 10s - loss: 0.2981 - accuracy: 0.8694 - val_loss: 0.7465 - val_accuracy: 0.5358 - 10s/epoch - 8ms/step\n",
      "Epoch 19/20\n",
      "1201/1201 - 10s - loss: 0.2978 - accuracy: 0.8698 - val_loss: 0.6173 - val_accuracy: 0.6257 - 10s/epoch - 8ms/step\n",
      "Epoch 20/20\n",
      "1201/1201 - 10s - loss: 0.2965 - accuracy: 0.8700 - val_loss: 0.6796 - val_accuracy: 0.5506 - 10s/epoch - 9ms/step\n",
      "INFO:tensorflow:Assets written to: C:\\Users\\Elana laptop\\Desktop\\HebU Big Data\\Fall 2021\\Machine Learning\\Final Project\\nn5layers300B\\assets\n",
      "training time 0:03:28.007512\n",
      "Validation F1 score: 0.1587974801970935\n"
     ]
    }
   ],
   "source": [
    "start=datetime.now()\n",
    "history = model1.fit(X_train, y_train, epochs=20,batch_size=100,validation_data=(X_test, y_test),verbose=2)\n",
    "finish = datetime.now()\n",
    "model1.save(r'C:\\Users\\Elana laptop\\Desktop\\HebU Big Data\\Fall 2021\\Machine Learning\\Final Project\\nn5layers300B')\n",
    "pd.DataFrame(history.history).to_csv(r'C:\\Users\\Elana laptop\\Desktop\\HebU Big Data\\Fall 2021\\Machine Learning\\Final Project\\nn5layers300B.csv')\n",
    "\n",
    "print(\"training time\", finish-start)\n",
    "print('Validation F1 score: {}'.format(f1_score(np.argmax(y_test,axis=1), np.argmax(model1.predict(X_test), axis=1))))\n"
   ]
  },
  {
   "cell_type": "markdown",
   "metadata": {},
   "source": [
    "Note: the third model has very low accuracy on the validation set compared tot he other models"
   ]
  },
  {
   "cell_type": "markdown",
   "metadata": {},
   "source": [
    "fourth model: 2 hidden layers, 300 neurons each, 10% dropout"
   ]
  },
  {
   "cell_type": "code",
   "execution_count": 165,
   "metadata": {},
   "outputs": [],
   "source": [
    "from keras.models import Sequential\n",
    "from keras.layers import Dense,Dropout\n",
    "from datetime import datetime\n",
    "\n",
    "def create_model(neurons1, dropout, output):\n",
    "    model1 = Sequential() \n",
    "    #layer 1\n",
    "    model1.add(Dense(neurons1, activation='relu')) \n",
    "    model1.add(Dropout(dropout))\n",
    "    #layer 2\n",
    "    model1.add(Dense(neurons1, activation='relu')) \n",
    "    model1.add(Dropout(dropout))\n",
    "    #output layer\n",
    "    model1.add(Dense(output, activation='sigmoid'))\n",
    "    return model1\n",
    "\n",
    "model1=create_model(300,.1,2)\n",
    "#compile the model\n",
    "model1.compile(loss='binary_crossentropy',optimizer='adam', metrics=['accuracy'])  "
   ]
  },
  {
   "cell_type": "code",
   "execution_count": 166,
   "metadata": {},
   "outputs": [
    {
     "name": "stdout",
     "output_type": "stream",
     "text": [
      "Epoch 1/20\n",
      "1201/1201 - 5s - loss: 0.3276 - accuracy: 0.8498 - val_loss: 0.2996 - val_accuracy: 0.8684 - 5s/epoch - 4ms/step\n",
      "Epoch 2/20\n",
      "1201/1201 - 4s - loss: 0.3025 - accuracy: 0.8664 - val_loss: 0.2962 - val_accuracy: 0.8720 - 4s/epoch - 3ms/step\n",
      "Epoch 3/20\n",
      "1201/1201 - 4s - loss: 0.2981 - accuracy: 0.8688 - val_loss: 0.2963 - val_accuracy: 0.8703 - 4s/epoch - 3ms/step\n",
      "Epoch 4/20\n",
      "1201/1201 - 4s - loss: 0.2941 - accuracy: 0.8701 - val_loss: 0.2933 - val_accuracy: 0.8716 - 4s/epoch - 3ms/step\n",
      "Epoch 5/20\n",
      "1201/1201 - 4s - loss: 0.2925 - accuracy: 0.8710 - val_loss: 0.2904 - val_accuracy: 0.8732 - 4s/epoch - 3ms/step\n",
      "Epoch 6/20\n",
      "1201/1201 - 4s - loss: 0.2894 - accuracy: 0.8729 - val_loss: 0.2947 - val_accuracy: 0.8731 - 4s/epoch - 3ms/step\n",
      "Epoch 7/20\n",
      "1201/1201 - 3s - loss: 0.2877 - accuracy: 0.8734 - val_loss: 0.2907 - val_accuracy: 0.8729 - 3s/epoch - 3ms/step\n",
      "Epoch 8/20\n",
      "1201/1201 - 4s - loss: 0.2861 - accuracy: 0.8737 - val_loss: 0.2901 - val_accuracy: 0.8748 - 4s/epoch - 3ms/step\n",
      "Epoch 9/20\n",
      "1201/1201 - 4s - loss: 0.2844 - accuracy: 0.8749 - val_loss: 0.2888 - val_accuracy: 0.8755 - 4s/epoch - 3ms/step\n",
      "Epoch 10/20\n",
      "1201/1201 - 4s - loss: 0.2825 - accuracy: 0.8756 - val_loss: 0.2880 - val_accuracy: 0.8756 - 4s/epoch - 3ms/step\n",
      "Epoch 11/20\n",
      "1201/1201 - 4s - loss: 0.2809 - accuracy: 0.8765 - val_loss: 0.2853 - val_accuracy: 0.8764 - 4s/epoch - 3ms/step\n",
      "Epoch 12/20\n",
      "1201/1201 - 4s - loss: 0.2795 - accuracy: 0.8773 - val_loss: 0.2877 - val_accuracy: 0.8771 - 4s/epoch - 3ms/step\n",
      "Epoch 13/20\n",
      "1201/1201 - 4s - loss: 0.2783 - accuracy: 0.8783 - val_loss: 0.2865 - val_accuracy: 0.8752 - 4s/epoch - 3ms/step\n",
      "Epoch 14/20\n",
      "1201/1201 - 3s - loss: 0.2770 - accuracy: 0.8780 - val_loss: 0.2868 - val_accuracy: 0.8753 - 3s/epoch - 3ms/step\n",
      "Epoch 15/20\n",
      "1201/1201 - 4s - loss: 0.2750 - accuracy: 0.8793 - val_loss: 0.2863 - val_accuracy: 0.8765 - 4s/epoch - 3ms/step\n",
      "Epoch 16/20\n",
      "1201/1201 - 3s - loss: 0.2742 - accuracy: 0.8795 - val_loss: 0.2854 - val_accuracy: 0.8774 - 3s/epoch - 3ms/step\n",
      "Epoch 17/20\n",
      "1201/1201 - 3s - loss: 0.2724 - accuracy: 0.8810 - val_loss: 0.2867 - val_accuracy: 0.8759 - 3s/epoch - 3ms/step\n",
      "Epoch 18/20\n",
      "1201/1201 - 4s - loss: 0.2710 - accuracy: 0.8804 - val_loss: 0.2878 - val_accuracy: 0.8754 - 4s/epoch - 3ms/step\n",
      "Epoch 19/20\n",
      "1201/1201 - 4s - loss: 0.2694 - accuracy: 0.8819 - val_loss: 0.2885 - val_accuracy: 0.8749 - 4s/epoch - 3ms/step\n",
      "Epoch 20/20\n",
      "1201/1201 - 5s - loss: 0.2683 - accuracy: 0.8822 - val_loss: 0.2895 - val_accuracy: 0.8754 - 5s/epoch - 4ms/step\n",
      "INFO:tensorflow:Assets written to: C:\\Users\\Elana laptop\\Desktop\\HebU Big Data\\Fall 2021\\Machine Learning\\Final Project\\nn2layers300B\\assets\n",
      "training time 0:01:13.774501\n",
      "Validation F1 score: 0.8755410534727308\n"
     ]
    }
   ],
   "source": [
    "start=datetime.now()\n",
    "history = model1.fit(X_train, y_train, epochs=20,batch_size=100,validation_data=(X_test, y_test),verbose=2)\n",
    "finish = datetime.now()\n",
    "model1.save(r'C:\\Users\\Elana laptop\\Desktop\\HebU Big Data\\Fall 2021\\Machine Learning\\Final Project\\nn2layers300B')\n",
    "pd.DataFrame(history.history).to_csv(r'C:\\Users\\Elana laptop\\Desktop\\HebU Big Data\\Fall 2021\\Machine Learning\\Final Project\\nn2layers300B.csv')\n",
    "print(\"training time\", finish-start)\n",
    "print('Validation F1 score: {}'.format(f1_score(np.argmax(y_test,axis=1), np.argmax(model1.predict(X_test), axis=1))))"
   ]
  },
  {
   "cell_type": "code",
   "execution_count": 167,
   "metadata": {},
   "outputs": [
    {
     "data": {
      "image/png": "[encoded data removed]",
      "text/plain": [
       "<Figure size 864x648 with 1 Axes>"
      ]
     },
     "metadata": {
      "needs_background": "light"
     },
     "output_type": "display_data"
    }
   ],
   "source": [
    "history = pd.read_csv(r'C:\\Users\\Elana laptop\\Desktop\\HebU Big Data\\Fall 2021\\Machine Learning\\Final Project\\nn2layers300B.csv', index_col=0)\n",
    "plt.figure(figsize=(12,9))\n",
    "plt.plot(history['accuracy'], label='train set accuracy')\n",
    "plt.plot(history['val_accuracy'], label='validation set accuracy')\n",
    "_, accuracy = model1.evaluate(X_test, y_test, verbose=0)\n",
    "plt.plot( np.full( (len(history['val_accuracy']),),fill_value=accuracy), label=f'test: {accuracy:3.3f}');\n",
    "plt.grid(True); plt.legend();"
   ]
  },
  {
   "cell_type": "code",
   "execution_count": 168,
   "metadata": {},
   "outputs": [
    {
     "name": "stdout",
     "output_type": "stream",
     "text": [
      "Model: \"sequential_14\"\n",
      "_________________________________________________________________\n",
      " Layer (type)                Output Shape              Param #   \n",
      "=================================================================\n",
      " dense_70 (Dense)            (None, 300)               30300     \n",
      "                                                                 \n",
      " dropout_26 (Dropout)        (None, 300)               0         \n",
      "                                                                 \n",
      " dense_71 (Dense)            (None, 300)               90300     \n",
      "                                                                 \n",
      " dropout_27 (Dropout)        (None, 300)               0         \n",
      "                                                                 \n",
      " dense_72 (Dense)            (None, 2)                 602       \n",
      "                                                                 \n",
      "=================================================================\n",
      "Total params: 121,202\n",
      "Trainable params: 121,202\n",
      "Non-trainable params: 0\n",
      "_________________________________________________________________\n"
     ]
    }
   ],
   "source": [
    "model1.summary()"
   ]
  },
  {
   "cell_type": "code",
   "execution_count": 212,
   "metadata": {},
   "outputs": [
    {
     "name": "stdout",
     "output_type": "stream",
     "text": [
      "Validation precision 0.8552657256228452\n"
     ]
    }
   ],
   "source": [
    "from sklearn.metrics import precision_score\n",
    "print('Validation precision %s' % precision_score(np.argmax(y_test,axis=1), np.argmax(model1.predict(X_test), axis=1)))"
   ]
  },
  {
   "cell_type": "markdown",
   "metadata": {},
   "source": [
    "# Predictions"
   ]
  },
  {
   "cell_type": "code",
   "execution_count": 47,
   "metadata": {},
   "outputs": [],
   "source": [
    "#load the test_corpus from zipped pickle\n",
    "import bz2\n",
    "import pickle\n",
    "import _pickle as cPickle\n",
    "\n",
    "def decompress_pickle(file):\n",
    "    data = bz2.BZ2File(file, 'rb')\n",
    "    data = cPickle.load(data)\n",
    "    return data\n",
    "test_corpus=decompress_pickle(r'C:\\Users\\Elana laptop\\Desktop\\HebU Big Data\\Fall 2021\\Machine Learning\\Final Project\\test_corpus.pbz2')"
   ]
  },
  {
   "cell_type": "code",
   "execution_count": 184,
   "metadata": {},
   "outputs": [
    {
     "name": "stdout",
     "output_type": "stream",
     "text": [
      "prediction time part 1 0:00:06.133228\n"
     ]
    }
   ],
   "source": [
    "#put the test set through the existing doc2vec model\n",
    "start=datetime.now()\n",
    "def getVecs(model_name, corpus, size):\n",
    "    vecs = [np.array(model_name[z.tags[0]]).reshape((1, size)) for z in corpus]\n",
    "    return np.concatenate(vecs)\n",
    "test_vecs_dm = getVecs(model, test_corpus, 100) #use 100 because that is the length of the vector\n",
    "finish=datetime.now()\n",
    "print(\"prediction time part 1\", finish-start)"
   ]
  },
  {
   "cell_type": "code",
   "execution_count": 170,
   "metadata": {},
   "outputs": [
    {
     "data": {
      "text/plain": [
       "(37510, 100)"
      ]
     },
     "execution_count": 170,
     "metadata": {},
     "output_type": "execute_result"
    }
   ],
   "source": [
    "test_vecs_dm.shape"
   ]
  },
  {
   "cell_type": "code",
   "execution_count": 171,
   "metadata": {},
   "outputs": [],
   "source": [
    "#choose the final model\n",
    "model_file_name = r\"C:\\Users\\Elana laptop\\Desktop\\HebU Big Data\\Fall 2021\\Machine Learning\\Final Project\\nn2layers300B\"\n",
    "final_model= tensorflow.keras.models.load_model(model_file_name)\n"
   ]
  },
  {
   "cell_type": "code",
   "execution_count": 172,
   "metadata": {},
   "outputs": [],
   "source": [
    "predicted_labels = np.argmax(final_model.predict(test_vecs_dm), axis=1)"
   ]
  },
  {
   "cell_type": "code",
   "execution_count": 173,
   "metadata": {},
   "outputs": [
    {
     "data": {
      "text/plain": [
       "array([0, 0, 0, 0, 0], dtype=int64)"
      ]
     },
     "execution_count": 173,
     "metadata": {},
     "output_type": "execute_result"
    }
   ],
   "source": [
    "predicted_labels[:5]"
   ]
  },
  {
   "cell_type": "code",
   "execution_count": 174,
   "metadata": {},
   "outputs": [
    {
     "data": {
      "text/plain": [
       "(37510,)"
      ]
     },
     "execution_count": 174,
     "metadata": {},
     "output_type": "execute_result"
    }
   ],
   "source": [
    "#load the test labels\n",
    "file_name  = r'C:\\Users\\Elana laptop\\Desktop\\HebU Big Data\\Fall 2021\\Machine Learning\\Final Project\\test_labels.pickle'\n",
    "test_labels=pd.read_pickle(file_name)\n",
    "test_labels.shape"
   ]
  },
  {
   "cell_type": "code",
   "execution_count": 175,
   "metadata": {},
   "outputs": [
    {
     "data": {
      "text/plain": [
       "0.5112236736870168"
      ]
     },
     "execution_count": 175,
     "metadata": {},
     "output_type": "execute_result"
    }
   ],
   "source": [
    "(predicted_labels == test_labels).mean()"
   ]
  },
  {
   "cell_type": "code",
   "execution_count": 176,
   "metadata": {},
   "outputs": [
    {
     "data": {
      "text/plain": [
       "array([[19039,   142],\n",
       "       [18192,   137]], dtype=int64)"
      ]
     },
     "execution_count": 176,
     "metadata": {},
     "output_type": "execute_result"
    }
   ],
   "source": [
    "from sklearn.metrics import confusion_matrix\n",
    "conf_mat = confusion_matrix(y_true=test_labels, y_pred=predicted_labels)\n",
    "conf_mat"
   ]
  },
  {
   "cell_type": "code",
   "execution_count": 182,
   "metadata": {
    "scrolled": true
   },
   "outputs": [
    {
     "data": {
      "image/png": "[encoded data removed]",
      "text/plain": [
       "<Figure size 432x432 with 1 Axes>"
      ]
     },
     "metadata": {
      "needs_background": "light"
     },
     "output_type": "display_data"
    }
   ],
   "source": [
    "import seaborn as sn\n",
    "import matplotlib.pyplot as plt\n",
    "from sklearn.metrics import confusion_matrix, f1_score\n",
    "\n",
    "conf_mat = confusion_matrix(test_labels, predicted_labels)\n",
    "\n",
    "#plot_confusion_matrix(estimator=model, X=test_images_norm, y_true=test_labels )\n",
    "plt.subplots(figsize=(6,6))\n",
    "sn.set(font_scale=1.4) # for label size\n",
    "sn.heatmap(conf_mat, annot=True, fmt=\".0f\", annot_kws={\"size\": 16}, cbar=False) # font size\n",
    "plt.xlabel('Target (true) Class'); plt.ylabel('Output (predicted) class'); plt.title('Confusion Matrix')\n",
    "plt.show()\n"
   ]
  },
  {
   "cell_type": "code",
   "execution_count": 185,
   "metadata": {},
   "outputs": [
    {
     "name": "stdout",
     "output_type": "stream",
     "text": [
      "prediction time part 2 0:00:02.563395\n"
     ]
    }
   ],
   "source": [
    "start=datetime.now()\n",
    "final_model.predict(test_vecs_norm)\n",
    "finish=datetime.now()\n",
    "print(\"prediction time part 2\", finish-start)"
   ]
  },
  {
   "cell_type": "markdown",
   "metadata": {},
   "source": [
    "calculate precision"
   ]
  },
  {
   "cell_type": "code",
   "execution_count": 211,
   "metadata": {},
   "outputs": [
    {
     "name": "stdout",
     "output_type": "stream",
     "text": [
      "Testing precision 0.4910394265232975\n"
     ]
    }
   ],
   "source": [
    "from sklearn.metrics import precision_score\n",
    "print('Testing precision %s' % precision_score(test_labels, predicted_labels))"
   ]
  },
  {
   "cell_type": "code",
   "execution_count": 178,
   "metadata": {},
   "outputs": [
    {
     "name": "stdout",
     "output_type": "stream",
     "text": [
      "Testing accuracy 0.5112236736870168\n",
      "Testing F1 score: 0.3523602443442039\n"
     ]
    }
   ],
   "source": [
    "from sklearn.metrics import accuracy_score, f1_score\n",
    "print('Testing accuracy %s' % accuracy_score(test_labels, predicted_labels))\n",
    "print('Testing F1 score: {}'.format(f1_score(test_labels, predicted_labels, average='weighted')))"
   ]
  },
  {
   "cell_type": "markdown",
   "metadata": {},
   "source": [
    "check why the accuracy on the test set was so low"
   ]
  },
  {
   "cell_type": "code",
   "execution_count": 179,
   "metadata": {},
   "outputs": [
    {
     "data": {
      "text/plain": [
       "0    0.511357\n",
       "1    0.488643\n",
       "Name: label, dtype: float64"
      ]
     },
     "execution_count": 179,
     "metadata": {},
     "output_type": "execute_result"
    }
   ],
   "source": [
    "#check the distribution of the test set\n",
    "df_test_labels= pd.DataFrame(test_labels, columns=['label'])\n",
    "df_test_labels['label'].value_counts(normalize=True)"
   ]
  },
  {
   "cell_type": "code",
   "execution_count": 180,
   "metadata": {},
   "outputs": [
    {
     "data": {
      "text/plain": [
       "0    0.51143\n",
       "1    0.48857\n",
       "Name: label, dtype: float64"
      ]
     },
     "execution_count": 180,
     "metadata": {},
     "output_type": "execute_result"
    }
   ],
   "source": [
    "#check the distribution of the validation set\n",
    "df_y_test=pd.DataFrame(np.argmax(y_test, axis=1),columns=['label'])\n",
    "df_y_test['label'].value_counts(normalize=True)"
   ]
  },
  {
   "cell_type": "code",
   "execution_count": 181,
   "metadata": {},
   "outputs": [
    {
     "data": {
      "text/plain": [
       "0    0.513821\n",
       "1    0.486179\n",
       "Name: label, dtype: float64"
      ]
     },
     "execution_count": 181,
     "metadata": {},
     "output_type": "execute_result"
    }
   ],
   "source": [
    "#check the distribution of the train set\n",
    "df_y_train=pd.DataFrame(np.argmax(y_train, axis=1),columns=['label'])\n",
    "df_y_train['label'].value_counts(normalize=True)"
   ]
  },
  {
   "cell_type": "markdown",
   "metadata": {},
   "source": [
    "# Sample Predictions"
   ]
  },
  {
   "cell_type": "code",
   "execution_count": 196,
   "metadata": {},
   "outputs": [],
   "source": [
    "df_predicitons= pd.DataFrame(test_corpus)"
   ]
  },
  {
   "cell_type": "code",
   "execution_count": 197,
   "metadata": {},
   "outputs": [],
   "source": [
    "df_predicted_labels = predicted_labels"
   ]
  },
  {
   "cell_type": "code",
   "execution_count": 207,
   "metadata": {},
   "outputs": [],
   "source": [
    "df_labelled_predictions= pd.DataFrame(zip(test_corpus, predicted_labels,test_labels), columns= ['words','predicted label','true_label'])"
   ]
  },
  {
   "cell_type": "code",
   "execution_count": 208,
   "metadata": {},
   "outputs": [
    {
     "data": {
      "text/html": [
       "<div>\n",
       "<style scoped>\n",
       "    .dataframe tbody tr th:only-of-type {\n",
       "        vertical-align: middle;\n",
       "    }\n",
       "\n",
       "    .dataframe tbody tr th {\n",
       "        vertical-align: top;\n",
       "    }\n",
       "\n",
       "    .dataframe thead th {\n",
       "        text-align: right;\n",
       "    }\n",
       "</style>\n",
       "<table border=\"1\" class=\"dataframe\">\n",
       "  <thead>\n",
       "    <tr style=\"text-align: right;\">\n",
       "      <th></th>\n",
       "      <th>words</th>\n",
       "      <th>predicted label</th>\n",
       "      <th>true_label</th>\n",
       "    </tr>\n",
       "  </thead>\n",
       "  <tbody>\n",
       "    <tr>\n",
       "      <th>0</th>\n",
       "      <td>([var a0_0x190c = [,     'result',,     '68757...</td>\n",
       "      <td>0</td>\n",
       "      <td>1</td>\n",
       "    </tr>\n",
       "    <tr>\n",
       "      <th>1</th>\n",
       "      <td>([(function ($fog$1691, $fog$0, $fog$1, $fog$2...</td>\n",
       "      <td>0</td>\n",
       "      <td>1</td>\n",
       "    </tr>\n",
       "    <tr>\n",
       "      <th>2</th>\n",
       "      <td>([(function(){function a(f,g){var b=new Array(...</td>\n",
       "      <td>0</td>\n",
       "      <td>1</td>\n",
       "    </tr>\n",
       "    <tr>\n",
       "      <th>3</th>\n",
       "      <td>([var a0_0x1616 = [,     'serialize',,     '#s...</td>\n",
       "      <td>0</td>\n",
       "      <td>1</td>\n",
       "    </tr>\n",
       "    <tr>\n",
       "      <th>4</th>\n",
       "      <td>([if (typeof KJUR == \"undefined\" || !KJUR) KJU...</td>\n",
       "      <td>0</td>\n",
       "      <td>0</td>\n",
       "    </tr>\n",
       "  </tbody>\n",
       "</table>\n",
       "</div>"
      ],
      "text/plain": [
       "                                               words  predicted label  \\\n",
       "0  ([var a0_0x190c = [,     'result',,     '68757...                0   \n",
       "1  ([(function ($fog$1691, $fog$0, $fog$1, $fog$2...                0   \n",
       "2  ([(function(){function a(f,g){var b=new Array(...                0   \n",
       "3  ([var a0_0x1616 = [,     'serialize',,     '#s...                0   \n",
       "4  ([if (typeof KJUR == \"undefined\" || !KJUR) KJU...                0   \n",
       "\n",
       "   true_label  \n",
       "0           1  \n",
       "1           1  \n",
       "2           1  \n",
       "3           1  \n",
       "4           0  "
      ]
     },
     "execution_count": 208,
     "metadata": {},
     "output_type": "execute_result"
    }
   ],
   "source": [
    "df_labelled_predictions.head()"
   ]
  },
  {
   "cell_type": "code",
   "execution_count": 209,
   "metadata": {},
   "outputs": [
    {
     "data": {
      "text/plain": [
       "0    37231\n",
       "1      279\n",
       "Name: predicted label, dtype: int64"
      ]
     },
     "execution_count": 209,
     "metadata": {},
     "output_type": "execute_result"
    }
   ],
   "source": [
    "df_labelled_predictions['predicted label'].value_counts()"
   ]
  },
  {
   "cell_type": "code",
   "execution_count": null,
   "metadata": {},
   "outputs": [],
   "source": []
  },
  {
   "cell_type": "code",
   "execution_count": null,
   "metadata": {},
   "outputs": [],
   "source": []
  }
 ],
 "metadata": {
  "kernelspec": {
   "display_name": "Python 3",
   "language": "python",
   "name": "python3"
  },
  "language_info": {
   "codemirror_mode": {
    "name": "ipython",
    "version": 3
   },
   "file_extension": ".py",
   "mimetype": "text/x-python",
   "name": "python",
   "nbconvert_exporter": "python",
   "pygments_lexer": "ipython3",
   "version": "3.8.3"
  }
 },
 "nbformat": 4,
 "nbformat_minor": 4
}
