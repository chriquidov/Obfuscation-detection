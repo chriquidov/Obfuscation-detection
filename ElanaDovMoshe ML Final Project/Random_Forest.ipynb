{
  "nbformat": 4,
  "nbformat_minor": 0,
  "metadata": {
    "colab": {
      "name": "Random_Forest.ipynb",
      "provenance": []
    },
    "kernelspec": {
      "name": "python3",
      "display_name": "Python 3"
    },
    "language_info": {
      "name": "python"
    }
  },
  "cells": [
    {
      "cell_type": "code",
      "source": [
        "import numpy as np, os, pickle\n",
        "import pandas as pd\n",
        "import matplotlib\n",
        "import re\n",
        "\n",
        "## Import up sound alert dependencies\n",
        "from IPython.display import Audio, display\n",
        "\n",
        "def allDone():\n",
        "    display(Audio(url='https://sound.peal.io/ps/audios/000/000/537/original/woo_vu_luvub_dub_dub.wav', autoplay=True))\n",
        "## Insert whatever audio file you want above"
      ],
      "metadata": {
        "id": "Rk_r4seWBni9"
      },
      "execution_count": 1,
      "outputs": []
    },
    {
      "cell_type": "code",
      "source": [
        "from google.colab import drive\n",
        "drive.mount('/content/drive', force_remount=True) "
      ],
      "metadata": {
        "colab": {
          "base_uri": "https://localhost:8080/"
        },
        "id": "YvfFXnUtj01x",
        "outputId": "aebdee04-f042-458b-8ef4-b9bfd83db1ec"
      },
      "execution_count": 2,
      "outputs": [
        {
          "output_type": "stream",
          "name": "stdout",
          "text": [
            "Mounted at /content/drive\n"
          ]
        }
      ]
    },
    {
      "cell_type": "code",
      "source": [
        "#Load the train set\n",
        "file_name  = r'/content/drive/My Drive//Final_Project_Machine_Learning/train_set.zip'\n",
        "train_data=pd.read_pickle(file_name)\n"
      ],
      "metadata": {
        "id": "jl6mbc1kj1TA"
      },
      "execution_count": 4,
      "outputs": []
    },
    {
      "cell_type": "code",
      "source": [
        "#Load the test set\n",
        "file_name  = r'/content/drive/My Drive//Final_Project_Machine_Learning/test_set.zip'\n",
        "test_data=pd.read_pickle(file_name)\n"
      ],
      "metadata": {
        "id": "8INIjuLmonCZ"
      },
      "execution_count": 5,
      "outputs": []
    },
    {
      "cell_type": "code",
      "source": [
        "train_data.head()"
      ],
      "metadata": {
        "colab": {
          "base_uri": "https://localhost:8080/",
          "height": 270
        },
        "id": "zGKO2K6lj1Vc",
        "outputId": "5647749e-2a91-4fce-dc72-922d2d049e88"
      },
      "execution_count": 7,
      "outputs": [
        {
          "output_type": "execute_result",
          "data": {
            "text/html": [
              "\n",
              "  <div id=\"df-38640ded-b278-444b-a63b-78a45277a861\">\n",
              "    <div class=\"colab-df-container\">\n",
              "      <div>\n",
              "<style scoped>\n",
              "    .dataframe tbody tr th:only-of-type {\n",
              "        vertical-align: middle;\n",
              "    }\n",
              "\n",
              "    .dataframe tbody tr th {\n",
              "        vertical-align: top;\n",
              "    }\n",
              "\n",
              "    .dataframe thead th {\n",
              "        text-align: right;\n",
              "    }\n",
              "</style>\n",
              "<table border=\"1\" class=\"dataframe\">\n",
              "  <thead>\n",
              "    <tr style=\"text-align: right;\">\n",
              "      <th></th>\n",
              "      <th>obfuscated_bool</th>\n",
              "      <th>js</th>\n",
              "      <th>obfuscator_name</th>\n",
              "      <th>js_length</th>\n",
              "      <th>num_spaces</th>\n",
              "      <th>num_parenthesis</th>\n",
              "      <th>num_slash</th>\n",
              "      <th>num_plus</th>\n",
              "      <th>num_point</th>\n",
              "      <th>num_comma</th>\n",
              "      <th>num_semicolon</th>\n",
              "      <th>num_alpha</th>\n",
              "      <th>num_numeric</th>\n",
              "      <th>ratio_spaces</th>\n",
              "      <th>ratio_alpha</th>\n",
              "      <th>ratio_numeric</th>\n",
              "      <th>ratio_parenthesis</th>\n",
              "      <th>ratio_slash</th>\n",
              "      <th>ratio_plus</th>\n",
              "      <th>ratio_point</th>\n",
              "      <th>ratio_comma</th>\n",
              "      <th>ratio_semicolon</th>\n",
              "    </tr>\n",
              "  </thead>\n",
              "  <tbody>\n",
              "    <tr>\n",
              "      <th>115028</th>\n",
              "      <td>1</td>\n",
              "      <td>\\nvar a0_0x5108 = [\\n    'onreadystatechange',...</td>\n",
              "      <td>obfuscator_io</td>\n",
              "      <td>4138</td>\n",
              "      <td>1057</td>\n",
              "      <td>178</td>\n",
              "      <td>0</td>\n",
              "      <td>8</td>\n",
              "      <td>0</td>\n",
              "      <td>56</td>\n",
              "      <td>37</td>\n",
              "      <td>2404</td>\n",
              "      <td>972</td>\n",
              "      <td>0.255437</td>\n",
              "      <td>0.580957</td>\n",
              "      <td>0.234896</td>\n",
              "      <td>0.043016</td>\n",
              "      <td>0.000000</td>\n",
              "      <td>0.001933</td>\n",
              "      <td>0.000000</td>\n",
              "      <td>0.013533</td>\n",
              "      <td>0.008942</td>\n",
              "    </tr>\n",
              "    <tr>\n",
              "      <th>85481</th>\n",
              "      <td>0</td>\n",
              "      <td>\\n\\n\\n\\n\\n\\ngoog.provide('goog.dom');\\ngoog.pr...</td>\n",
              "      <td>0</td>\n",
              "      <td>49232</td>\n",
              "      <td>8591</td>\n",
              "      <td>867</td>\n",
              "      <td>25</td>\n",
              "      <td>29</td>\n",
              "      <td>1248</td>\n",
              "      <td>229</td>\n",
              "      <td>398</td>\n",
              "      <td>33518</td>\n",
              "      <td>152</td>\n",
              "      <td>0.174500</td>\n",
              "      <td>0.680817</td>\n",
              "      <td>0.003087</td>\n",
              "      <td>0.017610</td>\n",
              "      <td>0.000508</td>\n",
              "      <td>0.000589</td>\n",
              "      <td>0.025349</td>\n",
              "      <td>0.004651</td>\n",
              "      <td>0.008084</td>\n",
              "    </tr>\n",
              "    <tr>\n",
              "      <th>24018</th>\n",
              "      <td>0</td>\n",
              "      <td>\\n\\nMathJax.OutputJax.SVG.FONTDATA.FONTS[\"STIX...</td>\n",
              "      <td>0</td>\n",
              "      <td>30618</td>\n",
              "      <td>6448</td>\n",
              "      <td>2</td>\n",
              "      <td>4</td>\n",
              "      <td>1</td>\n",
              "      <td>10</td>\n",
              "      <td>327</td>\n",
              "      <td>2</td>\n",
              "      <td>19956</td>\n",
              "      <td>18175</td>\n",
              "      <td>0.210595</td>\n",
              "      <td>0.651773</td>\n",
              "      <td>0.593605</td>\n",
              "      <td>0.000065</td>\n",
              "      <td>0.000131</td>\n",
              "      <td>0.000033</td>\n",
              "      <td>0.000327</td>\n",
              "      <td>0.010680</td>\n",
              "      <td>0.000065</td>\n",
              "    </tr>\n",
              "    <tr>\n",
              "      <th>184850</th>\n",
              "      <td>1</td>\n",
              "      <td>var a0_0x3281 = [\\n    '165473rekVYY',\\n    '1...</td>\n",
              "      <td>obfuscator_io</td>\n",
              "      <td>1295</td>\n",
              "      <td>267</td>\n",
              "      <td>74</td>\n",
              "      <td>0</td>\n",
              "      <td>6</td>\n",
              "      <td>0</td>\n",
              "      <td>19</td>\n",
              "      <td>12</td>\n",
              "      <td>792</td>\n",
              "      <td>323</td>\n",
              "      <td>0.206178</td>\n",
              "      <td>0.611583</td>\n",
              "      <td>0.249421</td>\n",
              "      <td>0.057143</td>\n",
              "      <td>0.000000</td>\n",
              "      <td>0.004633</td>\n",
              "      <td>0.000000</td>\n",
              "      <td>0.014672</td>\n",
              "      <td>0.009266</td>\n",
              "    </tr>\n",
              "    <tr>\n",
              "      <th>128047</th>\n",
              "      <td>1</td>\n",
              "      <td>\\n(function ($fog$136, $fog$0, $fog$1, $fog$2,...</td>\n",
              "      <td>jfogs</td>\n",
              "      <td>14673</td>\n",
              "      <td>1767</td>\n",
              "      <td>800</td>\n",
              "      <td>15</td>\n",
              "      <td>4</td>\n",
              "      <td>2</td>\n",
              "      <td>334</td>\n",
              "      <td>221</td>\n",
              "      <td>8581</td>\n",
              "      <td>1363</td>\n",
              "      <td>0.120425</td>\n",
              "      <td>0.584816</td>\n",
              "      <td>0.092892</td>\n",
              "      <td>0.054522</td>\n",
              "      <td>0.001022</td>\n",
              "      <td>0.000273</td>\n",
              "      <td>0.000136</td>\n",
              "      <td>0.022763</td>\n",
              "      <td>0.015062</td>\n",
              "    </tr>\n",
              "  </tbody>\n",
              "</table>\n",
              "</div>\n",
              "      <button class=\"colab-df-convert\" onclick=\"convertToInteractive('df-38640ded-b278-444b-a63b-78a45277a861')\"\n",
              "              title=\"Convert this dataframe to an interactive table.\"\n",
              "              style=\"display:none;\">\n",
              "        \n",
              "  <svg xmlns=\"http://www.w3.org/2000/svg\" height=\"24px\"viewBox=\"0 0 24 24\"\n",
              "       width=\"24px\">\n",
              "    <path d=\"M0 0h24v24H0V0z\" fill=\"none\"/>\n",
              "    <path d=\"M18.56 5.44l.94 2.06.94-2.06 2.06-.94-2.06-.94-.94-2.06-.94 2.06-2.06.94zm-11 1L8.5 8.5l.94-2.06 2.06-.94-2.06-.94L8.5 2.5l-.94 2.06-2.06.94zm10 10l.94 2.06.94-2.06 2.06-.94-2.06-.94-.94-2.06-.94 2.06-2.06.94z\"/><path d=\"M17.41 7.96l-1.37-1.37c-.4-.4-.92-.59-1.43-.59-.52 0-1.04.2-1.43.59L10.3 9.45l-7.72 7.72c-.78.78-.78 2.05 0 2.83L4 21.41c.39.39.9.59 1.41.59.51 0 1.02-.2 1.41-.59l7.78-7.78 2.81-2.81c.8-.78.8-2.07 0-2.86zM5.41 20L4 18.59l7.72-7.72 1.47 1.35L5.41 20z\"/>\n",
              "  </svg>\n",
              "      </button>\n",
              "      \n",
              "  <style>\n",
              "    .colab-df-container {\n",
              "      display:flex;\n",
              "      flex-wrap:wrap;\n",
              "      gap: 12px;\n",
              "    }\n",
              "\n",
              "    .colab-df-convert {\n",
              "      background-color: #E8F0FE;\n",
              "      border: none;\n",
              "      border-radius: 50%;\n",
              "      cursor: pointer;\n",
              "      display: none;\n",
              "      fill: #1967D2;\n",
              "      height: 32px;\n",
              "      padding: 0 0 0 0;\n",
              "      width: 32px;\n",
              "    }\n",
              "\n",
              "    .colab-df-convert:hover {\n",
              "      background-color: #E2EBFA;\n",
              "      box-shadow: 0px 1px 2px rgba(60, 64, 67, 0.3), 0px 1px 3px 1px rgba(60, 64, 67, 0.15);\n",
              "      fill: #174EA6;\n",
              "    }\n",
              "\n",
              "    [theme=dark] .colab-df-convert {\n",
              "      background-color: #3B4455;\n",
              "      fill: #D2E3FC;\n",
              "    }\n",
              "\n",
              "    [theme=dark] .colab-df-convert:hover {\n",
              "      background-color: #434B5C;\n",
              "      box-shadow: 0px 1px 3px 1px rgba(0, 0, 0, 0.15);\n",
              "      filter: drop-shadow(0px 1px 2px rgba(0, 0, 0, 0.3));\n",
              "      fill: #FFFFFF;\n",
              "    }\n",
              "  </style>\n",
              "\n",
              "      <script>\n",
              "        const buttonEl =\n",
              "          document.querySelector('#df-38640ded-b278-444b-a63b-78a45277a861 button.colab-df-convert');\n",
              "        buttonEl.style.display =\n",
              "          google.colab.kernel.accessAllowed ? 'block' : 'none';\n",
              "\n",
              "        async function convertToInteractive(key) {\n",
              "          const element = document.querySelector('#df-38640ded-b278-444b-a63b-78a45277a861');\n",
              "          const dataTable =\n",
              "            await google.colab.kernel.invokeFunction('convertToInteractive',\n",
              "                                                     [key], {});\n",
              "          if (!dataTable) return;\n",
              "\n",
              "          const docLinkHtml = 'Like what you see? Visit the ' +\n",
              "            '<a target=\"_blank\" href=https://colab.research.google.com/notebooks/data_table.ipynb>data table notebook</a>'\n",
              "            + ' to learn more about interactive tables.';\n",
              "          element.innerHTML = '';\n",
              "          dataTable['output_type'] = 'display_data';\n",
              "          await google.colab.output.renderOutput(dataTable, element);\n",
              "          const docLink = document.createElement('div');\n",
              "          docLink.innerHTML = docLinkHtml;\n",
              "          element.appendChild(docLink);\n",
              "        }\n",
              "      </script>\n",
              "    </div>\n",
              "  </div>\n",
              "  "
            ],
            "text/plain": [
              "       obfuscated_bool  ... ratio_semicolon\n",
              "115028               1  ...        0.008942\n",
              "85481                0  ...        0.008084\n",
              "24018                0  ...        0.000065\n",
              "184850               1  ...        0.009266\n",
              "128047               1  ...        0.015062\n",
              "\n",
              "[5 rows x 22 columns]"
            ]
          },
          "metadata": {},
          "execution_count": 7
        }
      ]
    },
    {
      "cell_type": "code",
      "source": [
        "#We create the parts that the model needs ourselves, based on the data we split. We have 80% train data and 20% test. \n",
        "X_train=train_data[['js_length', 'num_spaces', 'num_parenthesis', 'num_slash', 'num_plus', 'num_point', 'num_comma', 'num_semicolon', 'num_alpha', 'num_numeric', 'ratio_spaces', 'ratio_alpha', 'ratio_numeric', 'ratio_parenthesis', 'ratio_slash', 'ratio_plus', 'ratio_point', 'ratio_comma', 'ratio_semicolon']]\n",
        "X_test=test_data[['js_length', 'num_spaces', 'num_parenthesis', 'num_slash', 'num_plus', 'num_point', 'num_comma', 'num_semicolon', 'num_alpha', 'num_numeric', 'ratio_spaces', 'ratio_alpha', 'ratio_numeric', 'ratio_parenthesis', 'ratio_slash', 'ratio_plus', 'ratio_point', 'ratio_comma', 'ratio_semicolon']]\n",
        "y_train=train_data['obfuscated_bool']\n",
        "y_test=test_data['obfuscated_bool']\n"
      ],
      "metadata": {
        "id": "xqN9ggOuj1Xb"
      },
      "execution_count": 8,
      "outputs": []
    },
    {
      "cell_type": "code",
      "source": [
        "#We try with 100 estimators\n",
        "from sklearn.ensemble import RandomForestClassifier\n",
        "\n",
        "clf=RandomForestClassifier(n_estimators=100)\n",
        "clf.fit(X_train,y_train)\n",
        "y_pred=clf.predict(X_test)"
      ],
      "metadata": {
        "id": "niy03xijn4hp"
      },
      "execution_count": 34,
      "outputs": []
    },
    {
      "cell_type": "code",
      "source": [
        "from sklearn import metrics\n",
        "print(\"Accuracy:\",metrics.accuracy_score(y_test, y_pred))"
      ],
      "metadata": {
        "colab": {
          "base_uri": "https://localhost:8080/"
        },
        "id": "oDWx1Jn3n4l2",
        "outputId": "29385912-4d0c-4574-ac33-eba4d5141c0b"
      },
      "execution_count": 35,
      "outputs": [
        {
          "output_type": "stream",
          "name": "stdout",
          "text": [
            "Accuracy: 0.9944014929352173\n"
          ]
        }
      ]
    },
    {
      "cell_type": "code",
      "source": [
        ""
      ],
      "metadata": {
        "id": "KbBFmBxowFQh"
      },
      "execution_count": null,
      "outputs": []
    },
    {
      "cell_type": "code",
      "source": [
        "#We try with a cross validation of 5\n",
        "\n",
        "from sklearn.ensemble import RandomForestClassifier\n",
        "from sklearn.model_selection import cross_val_score\n",
        "import numpy as np\n",
        "\n",
        "clf = RandomForestClassifier(n_estimators=100)\n",
        "\n",
        "# 5-Fold Cross validation\n",
        "np.mean(cross_val_score(clf, X_train, y_train, cv=5))"
      ],
      "metadata": {
        "colab": {
          "base_uri": "https://localhost:8080/"
        },
        "id": "SvQnLrhI48Ps",
        "outputId": "a15d7195-385b-45a2-d2fe-708e57870bda"
      },
      "execution_count": 36,
      "outputs": [
        {
          "output_type": "execute_result",
          "data": {
            "text/plain": [
              "0.9934417488669688"
            ]
          },
          "metadata": {},
          "execution_count": 36
        }
      ]
    },
    {
      "cell_type": "code",
      "source": [
        ""
      ],
      "metadata": {
        "id": "NZj90C51_Q3Q"
      },
      "execution_count": null,
      "outputs": []
    },
    {
      "cell_type": "code",
      "source": [
        "#We try with 200 estimators\n",
        "from sklearn.ensemble import RandomForestClassifier\n",
        "\n",
        "clf=RandomForestClassifier(n_estimators=200)\n",
        "clf.fit(X_train,y_train)\n",
        "y_pred=clf.predict(X_test)"
      ],
      "metadata": {
        "id": "ah9MfK6duKFz"
      },
      "execution_count": 45,
      "outputs": []
    },
    {
      "cell_type": "code",
      "source": [
        "print(\"Accuracy:\",metrics.accuracy_score(y_test, y_pred))"
      ],
      "metadata": {
        "id": "Pmv9TMN3n4oL",
        "colab": {
          "base_uri": "https://localhost:8080/"
        },
        "outputId": "4ff1a12e-b167-4d48-8065-c2a9e689fab2"
      },
      "execution_count": 46,
      "outputs": [
        {
          "output_type": "stream",
          "name": "stdout",
          "text": [
            "Accuracy: 0.9944014929352173\n"
          ]
        }
      ]
    },
    {
      "cell_type": "code",
      "source": [
        ""
      ],
      "metadata": {
        "id": "x1OLn8M-4j38"
      },
      "execution_count": null,
      "outputs": []
    },
    {
      "cell_type": "code",
      "source": [
        "#We try with 500 estimators\n",
        "from sklearn.ensemble import RandomForestClassifier\n",
        "\n",
        "clf=RandomForestClassifier(n_estimators=500)\n",
        "clf.fit(X_train,y_train)\n",
        "y_pred=clf.predict(X_test)"
      ],
      "metadata": {
        "id": "-8bZRju8ApZP"
      },
      "execution_count": 50,
      "outputs": []
    },
    {
      "cell_type": "code",
      "source": [
        "print(\"Accuracy:\",metrics.accuracy_score(y_test, y_pred))"
      ],
      "metadata": {
        "colab": {
          "base_uri": "https://localhost:8080/"
        },
        "outputId": "e69ee331-bbd4-4575-a730-d9e78c859f7f",
        "id": "e2VcAQNsApZW"
      },
      "execution_count": 51,
      "outputs": [
        {
          "output_type": "stream",
          "name": "stdout",
          "text": [
            "Accuracy: 0.9946147693948281\n"
          ]
        }
      ]
    },
    {
      "cell_type": "code",
      "source": [
        ""
      ],
      "metadata": {
        "id": "xEWbGhhXGlrJ"
      },
      "execution_count": null,
      "outputs": []
    },
    {
      "cell_type": "code",
      "source": [
        "#We try with 1000 estimators\n",
        "from sklearn.ensemble import RandomForestClassifier\n",
        "\n",
        "clf=RandomForestClassifier(n_estimators=1000)\n",
        "clf.fit(X_train,y_train)\n",
        "y_pred=clf.predict(X_test)"
      ],
      "metadata": {
        "id": "zZQcvzwaGYaT"
      },
      "execution_count": 55,
      "outputs": []
    },
    {
      "cell_type": "code",
      "source": [
        "print(\"Accuracy:\",metrics.accuracy_score(y_test, y_pred))"
      ],
      "metadata": {
        "colab": {
          "base_uri": "https://localhost:8080/"
        },
        "outputId": "c9883707-614d-4b8d-94b9-f0024967ad56",
        "id": "7mDdJKwXGYaa"
      },
      "execution_count": 56,
      "outputs": [
        {
          "output_type": "stream",
          "name": "stdout",
          "text": [
            "Accuracy: 0.9946680885097308\n"
          ]
        }
      ]
    },
    {
      "cell_type": "code",
      "source": [
        "import seaborn as sn\n",
        "import matplotlib.pyplot as plt\n",
        "from sklearn.metrics import confusion_matrix, f1_score\n",
        "\n",
        "conf_mat = confusion_matrix(y_test, y_pred)\n",
        "\n",
        "#plot_confusion_matrix(estimator=model, X=test_images_norm, y_true=test_labels )\n",
        "plt.subplots(figsize=(6,6))\n",
        "sn.set(font_scale=1.4) # for label size\n",
        "sn.heatmap(conf_mat, annot=True, fmt=\".0f\", annot_kws={\"size\": 16}, cbar=False) # font size\n",
        "plt.xlabel('Target (true) Class'); plt.ylabel('Output (predicted) class'); plt.title('Confusion Matrix')\n",
        "plt.show()"
      ],
      "metadata": {
        "colab": {
          "base_uri": "https://localhost:8080/",
          "height": 424
        },
        "outputId": "7917df18-3921-4662-8f39-fc167dd9230a",
        "id": "Seh5UsjeGYaa"
      },
      "execution_count": 57,
      "outputs": [
        {
          "output_type": "display_data",
          "data": {
            "image/png": "[encoded data removed]",
            "text/plain": [
              "<Figure size 432x432 with 1 Axes>"
            ]
          },
          "metadata": {}
        }
      ]
    },
    {
      "cell_type": "code",
      "source": [
        "f1_score(y_test, y_pred, average='micro')"
      ],
      "metadata": {
        "colab": {
          "base_uri": "https://localhost:8080/"
        },
        "outputId": "2027c6f7-1c3f-4c42-a06c-355ee5246470",
        "id": "GgU2qXnBGYaa"
      },
      "execution_count": 58,
      "outputs": [
        {
          "output_type": "execute_result",
          "data": {
            "text/plain": [
              "0.9946680885097308"
            ]
          },
          "metadata": {},
          "execution_count": 58
        }
      ]
    }
  ]
}