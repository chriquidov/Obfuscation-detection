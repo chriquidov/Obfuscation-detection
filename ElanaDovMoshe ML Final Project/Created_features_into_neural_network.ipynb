{
 "cells": [
  {
   "cell_type": "markdown",
   "id": "4dc2b396",
   "metadata": {},
   "source": [
    "### Importing relevant packages"
   ]
  },
  {
   "cell_type": "code",
   "execution_count": 1,
   "id": "462956fd",
   "metadata": {
    "ExecuteTime": {
     "end_time": "2022-02-26T20:12:37.914090Z",
     "start_time": "2022-02-26T20:12:37.906174Z"
    }
   },
   "outputs": [],
   "source": [
    "## Import up sound alert dependencies\n",
    "from IPython.display import Audio, display\n",
    "\n",
    "def allDone():\n",
    "    display(Audio(url='https://sound.peal.io/ps/audios/000/000/537/original/woo_vu_luvub_dub_dub.wav', autoplay=True))\n",
    "## Insert whatever audio file you want above"
   ]
  },
  {
   "cell_type": "code",
   "execution_count": 2,
   "id": "e3721829",
   "metadata": {
    "ExecuteTime": {
     "end_time": "2022-02-25T12:13:52.981813Z",
     "start_time": "2022-02-25T12:13:52.874813Z"
    }
   },
   "outputs": [
    {
     "data": {
      "text/html": [
       "\n",
       "                <audio  controls=\"controls\" autoplay=\"autoplay\">\n",
       "                    <source src=\"https://sound.peal.io/ps/audios/000/000/537/original/woo_vu_luvub_dub_dub.wav\" type=\"audio/wav\" />\n",
       "                    Your browser does not support the audio element.\n",
       "                </audio>\n",
       "              "
      ],
      "text/plain": [
       "<IPython.lib.display.Audio object>"
      ]
     },
     "metadata": {},
     "output_type": "display_data"
    }
   ],
   "source": [
    "allDone()"
   ]
  },
  {
   "cell_type": "code",
   "execution_count": 2,
   "id": "c885f27a",
   "metadata": {
    "ExecuteTime": {
     "end_time": "2022-02-26T20:12:48.154387Z",
     "start_time": "2022-02-26T20:12:39.847008Z"
    }
   },
   "outputs": [],
   "source": [
    "import string\n",
    "from nltk.tokenize.treebank import TreebankWordDetokenizer\n",
    "from gensim.utils import simple_preprocess\n",
    "import gensim\n",
    "from sklearn.model_selection import train_test_split\n",
    "import pickle\n",
    "import warnings\n",
    "warnings.filterwarnings('ignore')\n",
    "import seaborn as sns\n",
    "from sklearn.metrics import confusion_matrix\n",
    "import matplotlib.pyplot as plt \n",
    "import tensorflow as tf\n",
    "import keras\n",
    "import pandas as pd\n",
    "from nltk.corpus import stopwords\n",
    "import nltk"
   ]
  },
  {
   "cell_type": "code",
   "execution_count": 3,
   "id": "e7500ab9",
   "metadata": {
    "ExecuteTime": {
     "end_time": "2022-02-26T20:12:48.186379Z",
     "start_time": "2022-02-26T20:12:48.155362Z"
    }
   },
   "outputs": [],
   "source": [
    "import pandas as pd\n",
    "import matplotlib.pyplot as plt\n",
    "import numpy as np\n",
    "import re\n",
    "from tqdm import tqdm\n",
    "from tensorflow.keras.models import Sequential\n",
    "from tensorflow.keras.layers import LSTM,Dense, Dropout, SpatialDropout1D\n",
    "from tensorflow.keras.layers import Embedding\n",
    "from keras.layers import  Dropout, BatchNormalization\n",
    "from keras.layers.wrappers import Bidirectional"
   ]
  },
  {
   "cell_type": "code",
   "execution_count": 4,
   "id": "1a2db96e",
   "metadata": {
    "ExecuteTime": {
     "end_time": "2022-02-26T20:12:48.201370Z",
     "start_time": "2022-02-26T20:12:48.187355Z"
    }
   },
   "outputs": [],
   "source": [
    "import bz2\n",
    "import _pickle as cPickle\n",
    "import zipfile\n"
   ]
  },
  {
   "cell_type": "markdown",
   "id": "606abfeb",
   "metadata": {},
   "source": [
    "# Load data"
   ]
  },
  {
   "cell_type": "code",
   "execution_count": 5,
   "id": "7fd733f7",
   "metadata": {
    "ExecuteTime": {
     "end_time": "2022-02-26T20:29:31.481438Z",
     "start_time": "2022-02-26T20:28:43.492370Z"
    }
   },
   "outputs": [],
   "source": [
    "train=pd.read_pickle(r'C:\\Users\\chriq\\OneDrive\\Documents\\my_data\\MLdata\\train_set.zip' )"
   ]
  },
  {
   "cell_type": "markdown",
   "id": "af468f48",
   "metadata": {},
   "source": [
    "# Get our input vectors out of the dataset"
   ]
  },
  {
   "cell_type": "code",
   "execution_count": 6,
   "id": "ba0a074a",
   "metadata": {
    "ExecuteTime": {
     "end_time": "2022-02-26T20:29:31.654437Z",
     "start_time": "2022-02-26T20:29:31.484437Z"
    }
   },
   "outputs": [
    {
     "data": {
      "text/html": [
       "<div>\n",
       "<style scoped>\n",
       "    .dataframe tbody tr th:only-of-type {\n",
       "        vertical-align: middle;\n",
       "    }\n",
       "\n",
       "    .dataframe tbody tr th {\n",
       "        vertical-align: top;\n",
       "    }\n",
       "\n",
       "    .dataframe thead th {\n",
       "        text-align: right;\n",
       "    }\n",
       "</style>\n",
       "<table border=\"1\" class=\"dataframe\">\n",
       "  <thead>\n",
       "    <tr style=\"text-align: right;\">\n",
       "      <th></th>\n",
       "      <th>obfuscated_bool</th>\n",
       "      <th>js</th>\n",
       "      <th>obfuscator_name</th>\n",
       "      <th>js_length</th>\n",
       "      <th>num_spaces</th>\n",
       "      <th>num_parenthesis</th>\n",
       "      <th>num_slash</th>\n",
       "      <th>num_plus</th>\n",
       "      <th>num_point</th>\n",
       "      <th>num_comma</th>\n",
       "      <th>...</th>\n",
       "      <th>num_numeric</th>\n",
       "      <th>ratio_spaces</th>\n",
       "      <th>ratio_alpha</th>\n",
       "      <th>ratio_numeric</th>\n",
       "      <th>ratio_parenthesis</th>\n",
       "      <th>ratio_slash</th>\n",
       "      <th>ratio_plus</th>\n",
       "      <th>ratio_point</th>\n",
       "      <th>ratio_comma</th>\n",
       "      <th>ratio_semicolon</th>\n",
       "    </tr>\n",
       "  </thead>\n",
       "  <tbody>\n",
       "    <tr>\n",
       "      <th>115028</th>\n",
       "      <td>1</td>\n",
       "      <td>\\nvar a0_0x5108 = [\\n    'onreadystatechange',...</td>\n",
       "      <td>obfuscator_io</td>\n",
       "      <td>4138</td>\n",
       "      <td>1057</td>\n",
       "      <td>178</td>\n",
       "      <td>0</td>\n",
       "      <td>8</td>\n",
       "      <td>0</td>\n",
       "      <td>56</td>\n",
       "      <td>...</td>\n",
       "      <td>972</td>\n",
       "      <td>0.255437</td>\n",
       "      <td>0.580957</td>\n",
       "      <td>0.234896</td>\n",
       "      <td>0.043016</td>\n",
       "      <td>0.000000</td>\n",
       "      <td>0.001933</td>\n",
       "      <td>0.000000</td>\n",
       "      <td>0.013533</td>\n",
       "      <td>0.008942</td>\n",
       "    </tr>\n",
       "    <tr>\n",
       "      <th>85481</th>\n",
       "      <td>0</td>\n",
       "      <td>\\n\\n\\n\\n\\n\\ngoog.provide('goog.dom');\\ngoog.pr...</td>\n",
       "      <td>0</td>\n",
       "      <td>49232</td>\n",
       "      <td>8591</td>\n",
       "      <td>867</td>\n",
       "      <td>25</td>\n",
       "      <td>29</td>\n",
       "      <td>1248</td>\n",
       "      <td>229</td>\n",
       "      <td>...</td>\n",
       "      <td>152</td>\n",
       "      <td>0.174500</td>\n",
       "      <td>0.680817</td>\n",
       "      <td>0.003087</td>\n",
       "      <td>0.017610</td>\n",
       "      <td>0.000508</td>\n",
       "      <td>0.000589</td>\n",
       "      <td>0.025349</td>\n",
       "      <td>0.004651</td>\n",
       "      <td>0.008084</td>\n",
       "    </tr>\n",
       "    <tr>\n",
       "      <th>24018</th>\n",
       "      <td>0</td>\n",
       "      <td>\\n\\nMathJax.OutputJax.SVG.FONTDATA.FONTS[\"STIX...</td>\n",
       "      <td>0</td>\n",
       "      <td>30618</td>\n",
       "      <td>6448</td>\n",
       "      <td>2</td>\n",
       "      <td>4</td>\n",
       "      <td>1</td>\n",
       "      <td>10</td>\n",
       "      <td>327</td>\n",
       "      <td>...</td>\n",
       "      <td>18175</td>\n",
       "      <td>0.210595</td>\n",
       "      <td>0.651773</td>\n",
       "      <td>0.593605</td>\n",
       "      <td>0.000065</td>\n",
       "      <td>0.000131</td>\n",
       "      <td>0.000033</td>\n",
       "      <td>0.000327</td>\n",
       "      <td>0.010680</td>\n",
       "      <td>0.000065</td>\n",
       "    </tr>\n",
       "    <tr>\n",
       "      <th>184850</th>\n",
       "      <td>1</td>\n",
       "      <td>var a0_0x3281 = [\\n    '165473rekVYY',\\n    '1...</td>\n",
       "      <td>obfuscator_io</td>\n",
       "      <td>1295</td>\n",
       "      <td>267</td>\n",
       "      <td>74</td>\n",
       "      <td>0</td>\n",
       "      <td>6</td>\n",
       "      <td>0</td>\n",
       "      <td>19</td>\n",
       "      <td>...</td>\n",
       "      <td>323</td>\n",
       "      <td>0.206178</td>\n",
       "      <td>0.611583</td>\n",
       "      <td>0.249421</td>\n",
       "      <td>0.057143</td>\n",
       "      <td>0.000000</td>\n",
       "      <td>0.004633</td>\n",
       "      <td>0.000000</td>\n",
       "      <td>0.014672</td>\n",
       "      <td>0.009266</td>\n",
       "    </tr>\n",
       "    <tr>\n",
       "      <th>128047</th>\n",
       "      <td>1</td>\n",
       "      <td>\\n(function ($fog$136, $fog$0, $fog$1, $fog$2,...</td>\n",
       "      <td>jfogs</td>\n",
       "      <td>14673</td>\n",
       "      <td>1767</td>\n",
       "      <td>800</td>\n",
       "      <td>15</td>\n",
       "      <td>4</td>\n",
       "      <td>2</td>\n",
       "      <td>334</td>\n",
       "      <td>...</td>\n",
       "      <td>1363</td>\n",
       "      <td>0.120425</td>\n",
       "      <td>0.584816</td>\n",
       "      <td>0.092892</td>\n",
       "      <td>0.054522</td>\n",
       "      <td>0.001022</td>\n",
       "      <td>0.000273</td>\n",
       "      <td>0.000136</td>\n",
       "      <td>0.022763</td>\n",
       "      <td>0.015062</td>\n",
       "    </tr>\n",
       "    <tr>\n",
       "      <th>...</th>\n",
       "      <td>...</td>\n",
       "      <td>...</td>\n",
       "      <td>...</td>\n",
       "      <td>...</td>\n",
       "      <td>...</td>\n",
       "      <td>...</td>\n",
       "      <td>...</td>\n",
       "      <td>...</td>\n",
       "      <td>...</td>\n",
       "      <td>...</td>\n",
       "      <td>...</td>\n",
       "      <td>...</td>\n",
       "      <td>...</td>\n",
       "      <td>...</td>\n",
       "      <td>...</td>\n",
       "      <td>...</td>\n",
       "      <td>...</td>\n",
       "      <td>...</td>\n",
       "      <td>...</td>\n",
       "      <td>...</td>\n",
       "      <td>...</td>\n",
       "    </tr>\n",
       "    <tr>\n",
       "      <th>83486</th>\n",
       "      <td>0</td>\n",
       "      <td>CKEDITOR.plugins.setLang(\"colordialog\",\"nb\",{c...</td>\n",
       "      <td>0</td>\n",
       "      <td>145</td>\n",
       "      <td>3</td>\n",
       "      <td>2</td>\n",
       "      <td>0</td>\n",
       "      <td>0</td>\n",
       "      <td>2</td>\n",
       "      <td>6</td>\n",
       "      <td>...</td>\n",
       "      <td>0</td>\n",
       "      <td>0.020690</td>\n",
       "      <td>0.758621</td>\n",
       "      <td>0.000000</td>\n",
       "      <td>0.013793</td>\n",
       "      <td>0.000000</td>\n",
       "      <td>0.000000</td>\n",
       "      <td>0.013793</td>\n",
       "      <td>0.041379</td>\n",
       "      <td>0.006897</td>\n",
       "    </tr>\n",
       "    <tr>\n",
       "      <th>124699</th>\n",
       "      <td>1</td>\n",
       "      <td>(function(){function a(f,g){var b=new Array(5)...</td>\n",
       "      <td>defendjs</td>\n",
       "      <td>4866</td>\n",
       "      <td>61</td>\n",
       "      <td>436</td>\n",
       "      <td>0</td>\n",
       "      <td>113</td>\n",
       "      <td>62</td>\n",
       "      <td>273</td>\n",
       "      <td>...</td>\n",
       "      <td>1326</td>\n",
       "      <td>0.012536</td>\n",
       "      <td>0.590629</td>\n",
       "      <td>0.272503</td>\n",
       "      <td>0.089601</td>\n",
       "      <td>0.000000</td>\n",
       "      <td>0.023222</td>\n",
       "      <td>0.012741</td>\n",
       "      <td>0.056104</td>\n",
       "      <td>0.047267</td>\n",
       "    </tr>\n",
       "    <tr>\n",
       "      <th>135210</th>\n",
       "      <td>1</td>\n",
       "      <td>var a0_0x1e51 = [\\n    'goog.array',\\n    'get...</td>\n",
       "      <td>obfuscator_io</td>\n",
       "      <td>30096</td>\n",
       "      <td>3337</td>\n",
       "      <td>1906</td>\n",
       "      <td>2</td>\n",
       "      <td>48</td>\n",
       "      <td>44</td>\n",
       "      <td>543</td>\n",
       "      <td>...</td>\n",
       "      <td>8666</td>\n",
       "      <td>0.110879</td>\n",
       "      <td>0.684875</td>\n",
       "      <td>0.287945</td>\n",
       "      <td>0.063331</td>\n",
       "      <td>0.000066</td>\n",
       "      <td>0.001595</td>\n",
       "      <td>0.001462</td>\n",
       "      <td>0.018042</td>\n",
       "      <td>0.005283</td>\n",
       "    </tr>\n",
       "    <tr>\n",
       "      <th>79248</th>\n",
       "      <td>0</td>\n",
       "      <td>\\n\\n\\nfunction testcase() {\\n        function ...</td>\n",
       "      <td>0</td>\n",
       "      <td>682</td>\n",
       "      <td>223</td>\n",
       "      <td>28</td>\n",
       "      <td>0</td>\n",
       "      <td>0</td>\n",
       "      <td>7</td>\n",
       "      <td>3</td>\n",
       "      <td>...</td>\n",
       "      <td>15</td>\n",
       "      <td>0.326979</td>\n",
       "      <td>0.517595</td>\n",
       "      <td>0.021994</td>\n",
       "      <td>0.041056</td>\n",
       "      <td>0.000000</td>\n",
       "      <td>0.000000</td>\n",
       "      <td>0.010264</td>\n",
       "      <td>0.004399</td>\n",
       "      <td>0.019062</td>\n",
       "    </tr>\n",
       "    <tr>\n",
       "      <th>122659</th>\n",
       "      <td>1</td>\n",
       "      <td>\\n(function ($fog$28, $fog$0, $fog$1, $fog$2, ...</td>\n",
       "      <td>jfogs</td>\n",
       "      <td>1407</td>\n",
       "      <td>138</td>\n",
       "      <td>52</td>\n",
       "      <td>8</td>\n",
       "      <td>2</td>\n",
       "      <td>7</td>\n",
       "      <td>59</td>\n",
       "      <td>...</td>\n",
       "      <td>109</td>\n",
       "      <td>0.098081</td>\n",
       "      <td>0.584222</td>\n",
       "      <td>0.077470</td>\n",
       "      <td>0.036958</td>\n",
       "      <td>0.005686</td>\n",
       "      <td>0.001421</td>\n",
       "      <td>0.004975</td>\n",
       "      <td>0.041933</td>\n",
       "      <td>0.009240</td>\n",
       "    </tr>\n",
       "  </tbody>\n",
       "</table>\n",
       "<p>150040 rows × 22 columns</p>\n",
       "</div>"
      ],
      "text/plain": [
       "       obfuscated_bool                                                 js  \\\n",
       "115028               1  \\nvar a0_0x5108 = [\\n    'onreadystatechange',...   \n",
       "85481                0  \\n\\n\\n\\n\\n\\ngoog.provide('goog.dom');\\ngoog.pr...   \n",
       "24018                0  \\n\\nMathJax.OutputJax.SVG.FONTDATA.FONTS[\"STIX...   \n",
       "184850               1  var a0_0x3281 = [\\n    '165473rekVYY',\\n    '1...   \n",
       "128047               1  \\n(function ($fog$136, $fog$0, $fog$1, $fog$2,...   \n",
       "...                ...                                                ...   \n",
       "83486                0  CKEDITOR.plugins.setLang(\"colordialog\",\"nb\",{c...   \n",
       "124699               1  (function(){function a(f,g){var b=new Array(5)...   \n",
       "135210               1  var a0_0x1e51 = [\\n    'goog.array',\\n    'get...   \n",
       "79248                0  \\n\\n\\nfunction testcase() {\\n        function ...   \n",
       "122659               1  \\n(function ($fog$28, $fog$0, $fog$1, $fog$2, ...   \n",
       "\n",
       "       obfuscator_name  js_length  num_spaces  num_parenthesis  num_slash  \\\n",
       "115028   obfuscator_io       4138        1057              178          0   \n",
       "85481                0      49232        8591              867         25   \n",
       "24018                0      30618        6448                2          4   \n",
       "184850   obfuscator_io       1295         267               74          0   \n",
       "128047           jfogs      14673        1767              800         15   \n",
       "...                ...        ...         ...              ...        ...   \n",
       "83486                0        145           3                2          0   \n",
       "124699        defendjs       4866          61              436          0   \n",
       "135210   obfuscator_io      30096        3337             1906          2   \n",
       "79248                0        682         223               28          0   \n",
       "122659           jfogs       1407         138               52          8   \n",
       "\n",
       "        num_plus  num_point  num_comma  ...  num_numeric  ratio_spaces  \\\n",
       "115028         8          0         56  ...          972      0.255437   \n",
       "85481         29       1248        229  ...          152      0.174500   \n",
       "24018          1         10        327  ...        18175      0.210595   \n",
       "184850         6          0         19  ...          323      0.206178   \n",
       "128047         4          2        334  ...         1363      0.120425   \n",
       "...          ...        ...        ...  ...          ...           ...   \n",
       "83486          0          2          6  ...            0      0.020690   \n",
       "124699       113         62        273  ...         1326      0.012536   \n",
       "135210        48         44        543  ...         8666      0.110879   \n",
       "79248          0          7          3  ...           15      0.326979   \n",
       "122659         2          7         59  ...          109      0.098081   \n",
       "\n",
       "        ratio_alpha  ratio_numeric  ratio_parenthesis  ratio_slash  \\\n",
       "115028     0.580957       0.234896           0.043016     0.000000   \n",
       "85481      0.680817       0.003087           0.017610     0.000508   \n",
       "24018      0.651773       0.593605           0.000065     0.000131   \n",
       "184850     0.611583       0.249421           0.057143     0.000000   \n",
       "128047     0.584816       0.092892           0.054522     0.001022   \n",
       "...             ...            ...                ...          ...   \n",
       "83486      0.758621       0.000000           0.013793     0.000000   \n",
       "124699     0.590629       0.272503           0.089601     0.000000   \n",
       "135210     0.684875       0.287945           0.063331     0.000066   \n",
       "79248      0.517595       0.021994           0.041056     0.000000   \n",
       "122659     0.584222       0.077470           0.036958     0.005686   \n",
       "\n",
       "        ratio_plus  ratio_point  ratio_comma  ratio_semicolon  \n",
       "115028    0.001933     0.000000     0.013533         0.008942  \n",
       "85481     0.000589     0.025349     0.004651         0.008084  \n",
       "24018     0.000033     0.000327     0.010680         0.000065  \n",
       "184850    0.004633     0.000000     0.014672         0.009266  \n",
       "128047    0.000273     0.000136     0.022763         0.015062  \n",
       "...            ...          ...          ...              ...  \n",
       "83486     0.000000     0.013793     0.041379         0.006897  \n",
       "124699    0.023222     0.012741     0.056104         0.047267  \n",
       "135210    0.001595     0.001462     0.018042         0.005283  \n",
       "79248     0.000000     0.010264     0.004399         0.019062  \n",
       "122659    0.001421     0.004975     0.041933         0.009240  \n",
       "\n",
       "[150040 rows x 22 columns]"
      ]
     },
     "execution_count": 6,
     "metadata": {},
     "output_type": "execute_result"
    }
   ],
   "source": [
    "train"
   ]
  },
  {
   "cell_type": "code",
   "execution_count": 7,
   "id": "056a7fcf",
   "metadata": {
    "ExecuteTime": {
     "end_time": "2022-02-26T20:29:31.702452Z",
     "start_time": "2022-02-26T20:29:31.656437Z"
    }
   },
   "outputs": [],
   "source": [
    "train.drop(columns='obfuscator_name',inplace=True)"
   ]
  },
  {
   "cell_type": "code",
   "execution_count": 8,
   "id": "10fc8620",
   "metadata": {
    "ExecuteTime": {
     "end_time": "2022-02-26T20:29:31.813438Z",
     "start_time": "2022-02-26T20:29:31.705437Z"
    }
   },
   "outputs": [
    {
     "data": {
      "text/html": [
       "<div>\n",
       "<style scoped>\n",
       "    .dataframe tbody tr th:only-of-type {\n",
       "        vertical-align: middle;\n",
       "    }\n",
       "\n",
       "    .dataframe tbody tr th {\n",
       "        vertical-align: top;\n",
       "    }\n",
       "\n",
       "    .dataframe thead th {\n",
       "        text-align: right;\n",
       "    }\n",
       "</style>\n",
       "<table border=\"1\" class=\"dataframe\">\n",
       "  <thead>\n",
       "    <tr style=\"text-align: right;\">\n",
       "      <th></th>\n",
       "      <th>obfuscated_bool</th>\n",
       "      <th>js</th>\n",
       "      <th>js_length</th>\n",
       "      <th>num_spaces</th>\n",
       "      <th>num_parenthesis</th>\n",
       "      <th>num_slash</th>\n",
       "      <th>num_plus</th>\n",
       "      <th>num_point</th>\n",
       "      <th>num_comma</th>\n",
       "      <th>num_semicolon</th>\n",
       "      <th>...</th>\n",
       "      <th>num_numeric</th>\n",
       "      <th>ratio_spaces</th>\n",
       "      <th>ratio_alpha</th>\n",
       "      <th>ratio_numeric</th>\n",
       "      <th>ratio_parenthesis</th>\n",
       "      <th>ratio_slash</th>\n",
       "      <th>ratio_plus</th>\n",
       "      <th>ratio_point</th>\n",
       "      <th>ratio_comma</th>\n",
       "      <th>ratio_semicolon</th>\n",
       "    </tr>\n",
       "  </thead>\n",
       "  <tbody>\n",
       "    <tr>\n",
       "      <th>115028</th>\n",
       "      <td>1</td>\n",
       "      <td>\\nvar a0_0x5108 = [\\n    'onreadystatechange',...</td>\n",
       "      <td>4138</td>\n",
       "      <td>1057</td>\n",
       "      <td>178</td>\n",
       "      <td>0</td>\n",
       "      <td>8</td>\n",
       "      <td>0</td>\n",
       "      <td>56</td>\n",
       "      <td>37</td>\n",
       "      <td>...</td>\n",
       "      <td>972</td>\n",
       "      <td>0.255437</td>\n",
       "      <td>0.580957</td>\n",
       "      <td>0.234896</td>\n",
       "      <td>0.043016</td>\n",
       "      <td>0.000000</td>\n",
       "      <td>0.001933</td>\n",
       "      <td>0.000000</td>\n",
       "      <td>0.013533</td>\n",
       "      <td>0.008942</td>\n",
       "    </tr>\n",
       "    <tr>\n",
       "      <th>85481</th>\n",
       "      <td>0</td>\n",
       "      <td>\\n\\n\\n\\n\\n\\ngoog.provide('goog.dom');\\ngoog.pr...</td>\n",
       "      <td>49232</td>\n",
       "      <td>8591</td>\n",
       "      <td>867</td>\n",
       "      <td>25</td>\n",
       "      <td>29</td>\n",
       "      <td>1248</td>\n",
       "      <td>229</td>\n",
       "      <td>398</td>\n",
       "      <td>...</td>\n",
       "      <td>152</td>\n",
       "      <td>0.174500</td>\n",
       "      <td>0.680817</td>\n",
       "      <td>0.003087</td>\n",
       "      <td>0.017610</td>\n",
       "      <td>0.000508</td>\n",
       "      <td>0.000589</td>\n",
       "      <td>0.025349</td>\n",
       "      <td>0.004651</td>\n",
       "      <td>0.008084</td>\n",
       "    </tr>\n",
       "    <tr>\n",
       "      <th>24018</th>\n",
       "      <td>0</td>\n",
       "      <td>\\n\\nMathJax.OutputJax.SVG.FONTDATA.FONTS[\"STIX...</td>\n",
       "      <td>30618</td>\n",
       "      <td>6448</td>\n",
       "      <td>2</td>\n",
       "      <td>4</td>\n",
       "      <td>1</td>\n",
       "      <td>10</td>\n",
       "      <td>327</td>\n",
       "      <td>2</td>\n",
       "      <td>...</td>\n",
       "      <td>18175</td>\n",
       "      <td>0.210595</td>\n",
       "      <td>0.651773</td>\n",
       "      <td>0.593605</td>\n",
       "      <td>0.000065</td>\n",
       "      <td>0.000131</td>\n",
       "      <td>0.000033</td>\n",
       "      <td>0.000327</td>\n",
       "      <td>0.010680</td>\n",
       "      <td>0.000065</td>\n",
       "    </tr>\n",
       "    <tr>\n",
       "      <th>184850</th>\n",
       "      <td>1</td>\n",
       "      <td>var a0_0x3281 = [\\n    '165473rekVYY',\\n    '1...</td>\n",
       "      <td>1295</td>\n",
       "      <td>267</td>\n",
       "      <td>74</td>\n",
       "      <td>0</td>\n",
       "      <td>6</td>\n",
       "      <td>0</td>\n",
       "      <td>19</td>\n",
       "      <td>12</td>\n",
       "      <td>...</td>\n",
       "      <td>323</td>\n",
       "      <td>0.206178</td>\n",
       "      <td>0.611583</td>\n",
       "      <td>0.249421</td>\n",
       "      <td>0.057143</td>\n",
       "      <td>0.000000</td>\n",
       "      <td>0.004633</td>\n",
       "      <td>0.000000</td>\n",
       "      <td>0.014672</td>\n",
       "      <td>0.009266</td>\n",
       "    </tr>\n",
       "    <tr>\n",
       "      <th>128047</th>\n",
       "      <td>1</td>\n",
       "      <td>\\n(function ($fog$136, $fog$0, $fog$1, $fog$2,...</td>\n",
       "      <td>14673</td>\n",
       "      <td>1767</td>\n",
       "      <td>800</td>\n",
       "      <td>15</td>\n",
       "      <td>4</td>\n",
       "      <td>2</td>\n",
       "      <td>334</td>\n",
       "      <td>221</td>\n",
       "      <td>...</td>\n",
       "      <td>1363</td>\n",
       "      <td>0.120425</td>\n",
       "      <td>0.584816</td>\n",
       "      <td>0.092892</td>\n",
       "      <td>0.054522</td>\n",
       "      <td>0.001022</td>\n",
       "      <td>0.000273</td>\n",
       "      <td>0.000136</td>\n",
       "      <td>0.022763</td>\n",
       "      <td>0.015062</td>\n",
       "    </tr>\n",
       "    <tr>\n",
       "      <th>...</th>\n",
       "      <td>...</td>\n",
       "      <td>...</td>\n",
       "      <td>...</td>\n",
       "      <td>...</td>\n",
       "      <td>...</td>\n",
       "      <td>...</td>\n",
       "      <td>...</td>\n",
       "      <td>...</td>\n",
       "      <td>...</td>\n",
       "      <td>...</td>\n",
       "      <td>...</td>\n",
       "      <td>...</td>\n",
       "      <td>...</td>\n",
       "      <td>...</td>\n",
       "      <td>...</td>\n",
       "      <td>...</td>\n",
       "      <td>...</td>\n",
       "      <td>...</td>\n",
       "      <td>...</td>\n",
       "      <td>...</td>\n",
       "      <td>...</td>\n",
       "    </tr>\n",
       "    <tr>\n",
       "      <th>83486</th>\n",
       "      <td>0</td>\n",
       "      <td>CKEDITOR.plugins.setLang(\"colordialog\",\"nb\",{c...</td>\n",
       "      <td>145</td>\n",
       "      <td>3</td>\n",
       "      <td>2</td>\n",
       "      <td>0</td>\n",
       "      <td>0</td>\n",
       "      <td>2</td>\n",
       "      <td>6</td>\n",
       "      <td>1</td>\n",
       "      <td>...</td>\n",
       "      <td>0</td>\n",
       "      <td>0.020690</td>\n",
       "      <td>0.758621</td>\n",
       "      <td>0.000000</td>\n",
       "      <td>0.013793</td>\n",
       "      <td>0.000000</td>\n",
       "      <td>0.000000</td>\n",
       "      <td>0.013793</td>\n",
       "      <td>0.041379</td>\n",
       "      <td>0.006897</td>\n",
       "    </tr>\n",
       "    <tr>\n",
       "      <th>124699</th>\n",
       "      <td>1</td>\n",
       "      <td>(function(){function a(f,g){var b=new Array(5)...</td>\n",
       "      <td>4866</td>\n",
       "      <td>61</td>\n",
       "      <td>436</td>\n",
       "      <td>0</td>\n",
       "      <td>113</td>\n",
       "      <td>62</td>\n",
       "      <td>273</td>\n",
       "      <td>230</td>\n",
       "      <td>...</td>\n",
       "      <td>1326</td>\n",
       "      <td>0.012536</td>\n",
       "      <td>0.590629</td>\n",
       "      <td>0.272503</td>\n",
       "      <td>0.089601</td>\n",
       "      <td>0.000000</td>\n",
       "      <td>0.023222</td>\n",
       "      <td>0.012741</td>\n",
       "      <td>0.056104</td>\n",
       "      <td>0.047267</td>\n",
       "    </tr>\n",
       "    <tr>\n",
       "      <th>135210</th>\n",
       "      <td>1</td>\n",
       "      <td>var a0_0x1e51 = [\\n    'goog.array',\\n    'get...</td>\n",
       "      <td>30096</td>\n",
       "      <td>3337</td>\n",
       "      <td>1906</td>\n",
       "      <td>2</td>\n",
       "      <td>48</td>\n",
       "      <td>44</td>\n",
       "      <td>543</td>\n",
       "      <td>159</td>\n",
       "      <td>...</td>\n",
       "      <td>8666</td>\n",
       "      <td>0.110879</td>\n",
       "      <td>0.684875</td>\n",
       "      <td>0.287945</td>\n",
       "      <td>0.063331</td>\n",
       "      <td>0.000066</td>\n",
       "      <td>0.001595</td>\n",
       "      <td>0.001462</td>\n",
       "      <td>0.018042</td>\n",
       "      <td>0.005283</td>\n",
       "    </tr>\n",
       "    <tr>\n",
       "      <th>79248</th>\n",
       "      <td>0</td>\n",
       "      <td>\\n\\n\\nfunction testcase() {\\n        function ...</td>\n",
       "      <td>682</td>\n",
       "      <td>223</td>\n",
       "      <td>28</td>\n",
       "      <td>0</td>\n",
       "      <td>0</td>\n",
       "      <td>7</td>\n",
       "      <td>3</td>\n",
       "      <td>13</td>\n",
       "      <td>...</td>\n",
       "      <td>15</td>\n",
       "      <td>0.326979</td>\n",
       "      <td>0.517595</td>\n",
       "      <td>0.021994</td>\n",
       "      <td>0.041056</td>\n",
       "      <td>0.000000</td>\n",
       "      <td>0.000000</td>\n",
       "      <td>0.010264</td>\n",
       "      <td>0.004399</td>\n",
       "      <td>0.019062</td>\n",
       "    </tr>\n",
       "    <tr>\n",
       "      <th>122659</th>\n",
       "      <td>1</td>\n",
       "      <td>\\n(function ($fog$28, $fog$0, $fog$1, $fog$2, ...</td>\n",
       "      <td>1407</td>\n",
       "      <td>138</td>\n",
       "      <td>52</td>\n",
       "      <td>8</td>\n",
       "      <td>2</td>\n",
       "      <td>7</td>\n",
       "      <td>59</td>\n",
       "      <td>13</td>\n",
       "      <td>...</td>\n",
       "      <td>109</td>\n",
       "      <td>0.098081</td>\n",
       "      <td>0.584222</td>\n",
       "      <td>0.077470</td>\n",
       "      <td>0.036958</td>\n",
       "      <td>0.005686</td>\n",
       "      <td>0.001421</td>\n",
       "      <td>0.004975</td>\n",
       "      <td>0.041933</td>\n",
       "      <td>0.009240</td>\n",
       "    </tr>\n",
       "  </tbody>\n",
       "</table>\n",
       "<p>150040 rows × 21 columns</p>\n",
       "</div>"
      ],
      "text/plain": [
       "       obfuscated_bool                                                 js  \\\n",
       "115028               1  \\nvar a0_0x5108 = [\\n    'onreadystatechange',...   \n",
       "85481                0  \\n\\n\\n\\n\\n\\ngoog.provide('goog.dom');\\ngoog.pr...   \n",
       "24018                0  \\n\\nMathJax.OutputJax.SVG.FONTDATA.FONTS[\"STIX...   \n",
       "184850               1  var a0_0x3281 = [\\n    '165473rekVYY',\\n    '1...   \n",
       "128047               1  \\n(function ($fog$136, $fog$0, $fog$1, $fog$2,...   \n",
       "...                ...                                                ...   \n",
       "83486                0  CKEDITOR.plugins.setLang(\"colordialog\",\"nb\",{c...   \n",
       "124699               1  (function(){function a(f,g){var b=new Array(5)...   \n",
       "135210               1  var a0_0x1e51 = [\\n    'goog.array',\\n    'get...   \n",
       "79248                0  \\n\\n\\nfunction testcase() {\\n        function ...   \n",
       "122659               1  \\n(function ($fog$28, $fog$0, $fog$1, $fog$2, ...   \n",
       "\n",
       "        js_length  num_spaces  num_parenthesis  num_slash  num_plus  \\\n",
       "115028       4138        1057              178          0         8   \n",
       "85481       49232        8591              867         25        29   \n",
       "24018       30618        6448                2          4         1   \n",
       "184850       1295         267               74          0         6   \n",
       "128047      14673        1767              800         15         4   \n",
       "...           ...         ...              ...        ...       ...   \n",
       "83486         145           3                2          0         0   \n",
       "124699       4866          61              436          0       113   \n",
       "135210      30096        3337             1906          2        48   \n",
       "79248         682         223               28          0         0   \n",
       "122659       1407         138               52          8         2   \n",
       "\n",
       "        num_point  num_comma  num_semicolon  ...  num_numeric  ratio_spaces  \\\n",
       "115028          0         56             37  ...          972      0.255437   \n",
       "85481        1248        229            398  ...          152      0.174500   \n",
       "24018          10        327              2  ...        18175      0.210595   \n",
       "184850          0         19             12  ...          323      0.206178   \n",
       "128047          2        334            221  ...         1363      0.120425   \n",
       "...           ...        ...            ...  ...          ...           ...   \n",
       "83486           2          6              1  ...            0      0.020690   \n",
       "124699         62        273            230  ...         1326      0.012536   \n",
       "135210         44        543            159  ...         8666      0.110879   \n",
       "79248           7          3             13  ...           15      0.326979   \n",
       "122659          7         59             13  ...          109      0.098081   \n",
       "\n",
       "        ratio_alpha  ratio_numeric  ratio_parenthesis  ratio_slash  \\\n",
       "115028     0.580957       0.234896           0.043016     0.000000   \n",
       "85481      0.680817       0.003087           0.017610     0.000508   \n",
       "24018      0.651773       0.593605           0.000065     0.000131   \n",
       "184850     0.611583       0.249421           0.057143     0.000000   \n",
       "128047     0.584816       0.092892           0.054522     0.001022   \n",
       "...             ...            ...                ...          ...   \n",
       "83486      0.758621       0.000000           0.013793     0.000000   \n",
       "124699     0.590629       0.272503           0.089601     0.000000   \n",
       "135210     0.684875       0.287945           0.063331     0.000066   \n",
       "79248      0.517595       0.021994           0.041056     0.000000   \n",
       "122659     0.584222       0.077470           0.036958     0.005686   \n",
       "\n",
       "        ratio_plus  ratio_point  ratio_comma  ratio_semicolon  \n",
       "115028    0.001933     0.000000     0.013533         0.008942  \n",
       "85481     0.000589     0.025349     0.004651         0.008084  \n",
       "24018     0.000033     0.000327     0.010680         0.000065  \n",
       "184850    0.004633     0.000000     0.014672         0.009266  \n",
       "128047    0.000273     0.000136     0.022763         0.015062  \n",
       "...            ...          ...          ...              ...  \n",
       "83486     0.000000     0.013793     0.041379         0.006897  \n",
       "124699    0.023222     0.012741     0.056104         0.047267  \n",
       "135210    0.001595     0.001462     0.018042         0.005283  \n",
       "79248     0.000000     0.010264     0.004399         0.019062  \n",
       "122659    0.001421     0.004975     0.041933         0.009240  \n",
       "\n",
       "[150040 rows x 21 columns]"
      ]
     },
     "execution_count": 8,
     "metadata": {},
     "output_type": "execute_result"
    }
   ],
   "source": [
    "train"
   ]
  },
  {
   "cell_type": "code",
   "execution_count": 9,
   "id": "487cb660",
   "metadata": {
    "ExecuteTime": {
     "end_time": "2022-02-26T20:29:38.125523Z",
     "start_time": "2022-02-26T20:29:31.815438Z"
    }
   },
   "outputs": [],
   "source": [
    "train['num_par']=train.apply(lambda x:x[2:].tolist(),axis=1)"
   ]
  },
  {
   "cell_type": "markdown",
   "id": "3ec9de0a",
   "metadata": {},
   "source": [
    "## There are 19 numerical input parameters"
   ]
  },
  {
   "cell_type": "code",
   "execution_count": 10,
   "id": "63252019",
   "metadata": {
    "ExecuteTime": {
     "end_time": "2022-02-26T20:29:38.141438Z",
     "start_time": "2022-02-26T20:29:38.127438Z"
    }
   },
   "outputs": [
    {
     "data": {
      "text/plain": [
       "19"
      ]
     },
     "execution_count": 10,
     "metadata": {},
     "output_type": "execute_result"
    }
   ],
   "source": [
    "len(train.num_par.loc[0])"
   ]
  },
  {
   "cell_type": "code",
   "execution_count": 11,
   "id": "6d5645ca",
   "metadata": {
    "ExecuteTime": {
     "end_time": "2022-02-26T20:29:38.157439Z",
     "start_time": "2022-02-26T20:29:38.143438Z"
    }
   },
   "outputs": [
    {
     "data": {
      "text/plain": [
       "[2659,\n",
       " 151,\n",
       " 90,\n",
       " 3,\n",
       " 8,\n",
       " 107,\n",
       " 13,\n",
       " 59,\n",
       " 1729,\n",
       " 18,\n",
       " 0.05678826626551335,\n",
       " 0.6502444528018052,\n",
       " 0.006769462203836028,\n",
       " 0.03384731101918014,\n",
       " 0.0011282437006393381,\n",
       " 0.003008649868371568,\n",
       " 0.040240691989469723,\n",
       " 0.004889056036103798,\n",
       " 0.022188792779240317]"
      ]
     },
     "execution_count": 11,
     "metadata": {},
     "output_type": "execute_result"
    }
   ],
   "source": [
    "train.num_par.loc[0]"
   ]
  },
  {
   "cell_type": "markdown",
   "id": "cf57cfe7",
   "metadata": {},
   "source": [
    "## Creating dummies for the labels"
   ]
  },
  {
   "cell_type": "code",
   "execution_count": 12,
   "id": "07afe01a",
   "metadata": {
    "ExecuteTime": {
     "end_time": "2022-02-26T20:29:38.188480Z",
     "start_time": "2022-02-26T20:29:38.159437Z"
    }
   },
   "outputs": [],
   "source": [
    "labels=train.obfuscated_bool.to_numpy()\n",
    "labels_onehot=pd.get_dummies(labels).values"
   ]
  },
  {
   "cell_type": "code",
   "execution_count": 13,
   "id": "9f0f273d",
   "metadata": {
    "ExecuteTime": {
     "end_time": "2022-02-26T20:29:38.204524Z",
     "start_time": "2022-02-26T20:29:38.190438Z"
    }
   },
   "outputs": [
    {
     "data": {
      "text/plain": [
       "array([[0, 1],\n",
       "       [1, 0],\n",
       "       [1, 0],\n",
       "       ...,\n",
       "       [0, 1],\n",
       "       [1, 0],\n",
       "       [0, 1]], dtype=uint8)"
      ]
     },
     "execution_count": 13,
     "metadata": {},
     "output_type": "execute_result"
    }
   ],
   "source": [
    "labels_onehot"
   ]
  },
  {
   "cell_type": "code",
   "execution_count": 14,
   "id": "3cc8671d",
   "metadata": {
    "ExecuteTime": {
     "end_time": "2022-02-26T20:29:38.471442Z",
     "start_time": "2022-02-26T20:29:38.206438Z"
    }
   },
   "outputs": [
    {
     "data": {
      "text/plain": [
       "array([4.13800000e+03, 1.05700000e+03, 1.78000000e+02, 0.00000000e+00,\n",
       "       8.00000000e+00, 0.00000000e+00, 5.60000000e+01, 3.70000000e+01,\n",
       "       2.40400000e+03, 9.72000000e+02, 2.55437409e-01, 5.80956984e-01,\n",
       "       2.34896085e-01, 4.30159497e-02, 0.00000000e+00, 1.93330111e-03,\n",
       "       0.00000000e+00, 1.35331078e-02, 8.94151764e-03])"
      ]
     },
     "execution_count": 14,
     "metadata": {},
     "output_type": "execute_result"
    }
   ],
   "source": [
    "nn_input=np.array(train.num_par.to_list())\n",
    "nn_input[0]"
   ]
  },
  {
   "cell_type": "code",
   "execution_count": 15,
   "id": "fdf4cd31",
   "metadata": {
    "ExecuteTime": {
     "end_time": "2022-02-26T20:29:38.503440Z",
     "start_time": "2022-02-26T20:29:38.472437Z"
    }
   },
   "outputs": [
    {
     "name": "stdout",
     "output_type": "stream",
     "text": [
      "mean: 2820.391719445004\n",
      "std: 69824.90011106507\n",
      "min: 0.0\n",
      "max: 30216572.0\n"
     ]
    }
   ],
   "source": [
    "print(f\"mean: {nn_input.mean()}\\nstd: {nn_input.std()}\")\n",
    "print(f\"min: {nn_input.min()}\\nmax: {nn_input.max()}\")"
   ]
  },
  {
   "cell_type": "markdown",
   "id": "624f1606",
   "metadata": {
    "ExecuteTime": {
     "end_time": "2022-02-21T12:42:09.635064Z",
     "start_time": "2022-02-21T12:42:09.620064Z"
    }
   },
   "source": [
    "## Normalize data"
   ]
  },
  {
   "cell_type": "code",
   "execution_count": 17,
   "id": "da1df569",
   "metadata": {
    "ExecuteTime": {
     "end_time": "2022-02-25T12:20:07.198643Z",
     "start_time": "2022-02-25T12:20:07.161512Z"
    }
   },
   "outputs": [],
   "source": [
    "# normalize to [0..1]\n",
    "nn_input_norm = (nn_input-nn_input.mean()) /nn_input .std() "
   ]
  },
  {
   "cell_type": "code",
   "execution_count": 18,
   "id": "82ee5888",
   "metadata": {
    "ExecuteTime": {
     "end_time": "2022-02-25T12:20:07.635743Z",
     "start_time": "2022-02-25T12:20:07.607764Z"
    }
   },
   "outputs": [
    {
     "name": "stdout",
     "output_type": "stream",
     "text": [
      "mean: -2.680524439704499e-17\n",
      "std: 1.0000000000000009\n",
      "min: -0.04039234878902548\n",
      "max: 432.70740896473717\n"
     ]
    }
   ],
   "source": [
    "print(f\"mean: {nn_input_norm.mean()}\\nstd: {nn_input_norm.std()}\")\n",
    "print(f\"min: {nn_input_norm.min()}\\nmax: {nn_input_norm.max()}\")"
   ]
  },
  {
   "cell_type": "markdown",
   "id": "b501133e",
   "metadata": {},
   "source": [
    "## Split data for training and validation data"
   ]
  },
  {
   "cell_type": "code",
   "execution_count": 17,
   "id": "5df99556",
   "metadata": {
    "ExecuteTime": {
     "end_time": "2022-02-26T20:30:14.763818Z",
     "start_time": "2022-02-26T20:30:14.725663Z"
    }
   },
   "outputs": [
    {
     "name": "stdout",
     "output_type": "stream",
     "text": [
      "120032 30008 120032 30008\n"
     ]
    }
   ],
   "source": [
    "X_train, X_test, y_train, y_test = train_test_split(nn_input,labels_onehot,train_size=0.8, random_state=0)\n",
    "print (len(X_train),len(X_test),len(y_train),len(y_test))"
   ]
  },
  {
   "cell_type": "code",
   "execution_count": 18,
   "id": "3f9bd954",
   "metadata": {
    "ExecuteTime": {
     "end_time": "2022-02-26T20:30:15.693458Z",
     "start_time": "2022-02-26T20:30:15.691437Z"
    }
   },
   "outputs": [],
   "source": [
    "# add f1 score as one of the accuracy measures of the model"
   ]
  },
  {
   "cell_type": "code",
   "execution_count": 19,
   "id": "e97551f2",
   "metadata": {
    "ExecuteTime": {
     "end_time": "2022-02-26T20:30:16.002867Z",
     "start_time": "2022-02-26T20:30:15.988825Z"
    }
   },
   "outputs": [],
   "source": [
    "from keras import backend as K\n",
    "\n",
    "def recall_m(y_true, y_pred):\n",
    "    true_positives = K.sum(K.round(K.clip(y_true * y_pred, 0, 1)))\n",
    "    possible_positives = K.sum(K.round(K.clip(y_true, 0, 1)))\n",
    "    recall = true_positives / (possible_positives + K.epsilon())\n",
    "    return recall\n",
    "\n",
    "def precision_m(y_true, y_pred):\n",
    "    true_positives = K.sum(K.round(K.clip(y_true * y_pred, 0, 1)))\n",
    "    predicted_positives = K.sum(K.round(K.clip(y_pred, 0, 1)))\n",
    "    precision = true_positives / (predicted_positives + K.epsilon())\n",
    "    return precision\n",
    "\n",
    "def f1_m(y_true, y_pred):\n",
    "    precision = precision_m(y_true, y_pred)\n",
    "    recall = recall_m(y_true, y_pred)\n",
    "    return 2*((precision*recall)/(precision+recall+K.epsilon()))\n",
    "\n"
   ]
  },
  {
   "cell_type": "markdown",
   "id": "36ad2280",
   "metadata": {},
   "source": [
    "## Run the model "
   ]
  },
  {
   "cell_type": "code",
   "execution_count": 36,
   "id": "5e496414",
   "metadata": {
    "ExecuteTime": {
     "end_time": "2022-02-26T20:43:02.184867Z",
     "start_time": "2022-02-26T20:36:34.767309Z"
    }
   },
   "outputs": [
    {
     "name": "stdout",
     "output_type": "stream",
     "text": [
      "Epoch 1/15\n",
      "1201/1201 [==============================] - 26s 20ms/step - loss: 0.0449 - accuracy: 0.9439 - f1_m: 0.9423 - val_loss: 0.0363 - val_accuracy: 0.9551 - val_f1_m: 0.9552ETA: 9s -\n",
      "Epoch 2/15\n",
      "1201/1201 [==============================] - 25s 21ms/step - loss: 0.0248 - accuracy: 0.9687 - f1_m: 0.9685 - val_loss: 0.0915 - val_accuracy: 0.8853 - val_f1_m: 0.8853\n",
      "Epoch 3/15\n",
      "1201/1201 [==============================] - 25s 21ms/step - loss: 0.0233 - accuracy: 0.9703 - f1_m: 0.9702 - val_loss: 0.0427 - val_accuracy: 0.9416 - val_f1_m: 0.9416\n",
      "Epoch 4/15\n",
      "1201/1201 [==============================] - 26s 21ms/step - loss: 0.0198 - accuracy: 0.9744 - f1_m: 0.9746 - val_loss: 0.0226 - val_accuracy: 0.9712 - val_f1_m: 0.9712\n",
      "Epoch 5/15\n",
      "1201/1201 [==============================] - 26s 21ms/step - loss: 0.0188 - accuracy: 0.9764 - f1_m: 0.9764 - val_loss: 0.0303 - val_accuracy: 0.9633 - val_f1_m: 0.9629\n",
      "Epoch 6/15\n",
      "1201/1201 [==============================] - 27s 22ms/step - loss: 0.0187 - accuracy: 0.9764 - f1_m: 0.9763 - val_loss: 0.0162 - val_accuracy: 0.9805 - val_f1_m: 0.9807\n",
      "Epoch 7/15\n",
      "1201/1201 [==============================] - 26s 21ms/step - loss: 0.0160 - accuracy: 0.9797 - f1_m: 0.9798 - val_loss: 0.0514 - val_accuracy: 0.9356 - val_f1_m: 0.9357\n",
      "Epoch 8/15\n",
      "1201/1201 [==============================] - 25s 21ms/step - loss: 0.0147 - accuracy: 0.9816 - f1_m: 0.9816 - val_loss: 0.0142 - val_accuracy: 0.9822 - val_f1_m: 0.9823\n",
      "Epoch 9/15\n",
      "1201/1201 [==============================] - 26s 21ms/step - loss: 0.0136 - accuracy: 0.9829 - f1_m: 0.9828 - val_loss: 0.0143 - val_accuracy: 0.9816 - val_f1_m: 0.9816\n",
      "Epoch 10/15\n",
      "1201/1201 [==============================] - 26s 22ms/step - loss: 0.0127 - accuracy: 0.9841 - f1_m: 0.9840 - val_loss: 0.0106 - val_accuracy: 0.9866 - val_f1_m: 0.9866\n",
      "Epoch 11/15\n",
      "1201/1201 [==============================] - 26s 21ms/step - loss: 0.0129 - accuracy: 0.9837 - f1_m: 0.9837 - val_loss: 0.0106 - val_accuracy: 0.9864 - val_f1_m: 0.9865\n",
      "Epoch 12/15\n",
      "1201/1201 [==============================] - 26s 22ms/step - loss: 0.0121 - accuracy: 0.9848 - f1_m: 0.9848 - val_loss: 0.0101 - val_accuracy: 0.9878 - val_f1_m: 0.9878\n",
      "Epoch 13/15\n",
      "1201/1201 [==============================] - 25s 21ms/step - loss: 0.0115 - accuracy: 0.9856 - f1_m: 0.9855 - val_loss: 0.0104 - val_accuracy: 0.9870 - val_f1_m: 0.9870\n",
      "Epoch 14/15\n",
      "1201/1201 [==============================] - 26s 22ms/step - loss: 0.0114 - accuracy: 0.9857 - f1_m: 0.9857 - val_loss: 0.0115 - val_accuracy: 0.9851 - val_f1_m: 0.9852\n",
      "Epoch 15/15\n",
      "1201/1201 [==============================] - 26s 22ms/step - loss: 0.0113 - accuracy: 0.9857 - f1_m: 0.9857 - val_loss: 0.0115 - val_accuracy: 0.9860 - val_f1_m: 0.9860\n"
     ]
    }
   ],
   "source": [
    "regressor = Sequential()\n",
    "\n",
    "regressor.add(LSTM(units = 50, return_sequences = True, input_shape = (X_train.shape[1], 1)))\n",
    "regressor.add(Dropout(0.2))\n",
    "regressor.add(BatchNormalization())\n",
    "\n",
    "\n",
    "regressor.add(LSTM(units = 50))\n",
    "regressor.add(Dropout(0.25))\n",
    "regressor.add(BatchNormalization())\n",
    "\n",
    "regressor.add(Dense(2, activation='sigmoid'))\n",
    "\n",
    "regressor.compile(optimizer = 'adam', loss = 'mean_squared_error',metrics=['accuracy',f1_m])\n",
    "\n",
    "lstm_history=regressor.fit(X_train, y_train,validation_data=(X_test,y_test), epochs = 15, batch_size = 100)"
   ]
  },
  {
   "cell_type": "markdown",
   "id": "7f26a231",
   "metadata": {
    "ExecuteTime": {
     "end_time": "2022-02-25T13:02:25.410868Z",
     "start_time": "2022-02-25T13:02:25.392849Z"
    }
   },
   "source": [
    "## Display results and improvement of the model toward convergence"
   ]
  },
  {
   "cell_type": "code",
   "execution_count": 37,
   "id": "6a875da2",
   "metadata": {
    "ExecuteTime": {
     "end_time": "2022-02-26T20:43:11.159035Z",
     "start_time": "2022-02-26T20:43:10.843964Z"
    }
   },
   "outputs": [
    {
     "data": {
      "image/png": "[encoded data removed]",
      "text/plain": [
       "<Figure size 432x288 with 1 Axes>"
      ]
     },
     "metadata": {
      "needs_background": "light"
     },
     "output_type": "display_data"
    },
    {
     "data": {
      "text/plain": [
       "<Figure size 432x288 with 0 Axes>"
      ]
     },
     "metadata": {},
     "output_type": "display_data"
    }
   ],
   "source": [
    "plt.plot(lstm_history.history['accuracy'], label='acc')\n",
    "plt.plot(lstm_history.history['val_accuracy'], label='val_acc')\n",
    "plt.title('Accuracy for Numerical input model')\n",
    "plt.legend()\n",
    "plt.show()\n",
    "plt.savefig(\"Accuracy_numreical_input.jpg\")"
   ]
  },
  {
   "cell_type": "code",
   "execution_count": 38,
   "id": "e6850556",
   "metadata": {
    "ExecuteTime": {
     "end_time": "2022-02-26T20:43:12.013457Z",
     "start_time": "2022-02-26T20:43:11.886313Z"
    }
   },
   "outputs": [
    {
     "data": {
      "image/png": "[encoded data removed]",
      "text/plain": [
       "<Figure size 432x288 with 1 Axes>"
      ]
     },
     "metadata": {
      "needs_background": "light"
     },
     "output_type": "display_data"
    },
    {
     "data": {
      "text/plain": [
       "<Figure size 432x288 with 0 Axes>"
      ]
     },
     "metadata": {},
     "output_type": "display_data"
    }
   ],
   "source": [
    "plt.plot(lstm_history.history['f1_m'], label='f1_m')\n",
    "plt.plot(lstm_history.history['val_f1_m'], label='val_f1_m')\n",
    "plt.title('f1 for Numerical input model')\n",
    "plt.legend()\n",
    "plt.show()\n",
    "plt.savefig(\"f1_num_input_model.jpg\")"
   ]
  },
  {
   "cell_type": "code",
   "execution_count": 39,
   "id": "47397b81",
   "metadata": {
    "ExecuteTime": {
     "end_time": "2022-02-26T20:43:27.183571Z",
     "start_time": "2022-02-26T20:43:14.940815Z"
    }
   },
   "outputs": [
    {
     "name": "stdout",
     "output_type": "stream",
     "text": [
      "3751/3751 [==============================] - 12s 3ms/step - loss: 0.0114 - accuracy: 0.9857 - f1_m: 0.9857\n"
     ]
    },
    {
     "data": {
      "text/plain": [
       "[0.011411089450120926, 0.9857121706008911, 0.9857080578804016]"
      ]
     },
     "execution_count": 39,
     "metadata": {},
     "output_type": "execute_result"
    }
   ],
   "source": [
    "regressor.evaluate(X_train,y_train)"
   ]
  },
  {
   "cell_type": "code",
   "execution_count": 40,
   "id": "46d1c15f",
   "metadata": {
    "ExecuteTime": {
     "end_time": "2022-02-26T20:43:32.289928Z",
     "start_time": "2022-02-26T20:43:28.179254Z"
    }
   },
   "outputs": [
    {
     "name": "stderr",
     "output_type": "stream",
     "text": [
      "WARNING:absl:Found untraced functions such as lstm_cell_2_layer_call_fn, lstm_cell_2_layer_call_and_return_conditional_losses, lstm_cell_3_layer_call_fn, lstm_cell_3_layer_call_and_return_conditional_losses, lstm_cell_2_layer_call_fn while saving (showing 5 of 10). These functions will not be directly callable after loading.\n"
     ]
    },
    {
     "name": "stdout",
     "output_type": "stream",
     "text": [
      "INFO:tensorflow:Assets written to: C:\\Users\\chriq\\OneDrive\\Documents\\my_data\\MLdata\\mymodels\\lstm_num_input\\assets\n"
     ]
    },
    {
     "name": "stderr",
     "output_type": "stream",
     "text": [
      "INFO:tensorflow:Assets written to: C:\\Users\\chriq\\OneDrive\\Documents\\my_data\\MLdata\\mymodels\\lstm_num_input\\assets\n",
      "WARNING:absl:<keras.layers.recurrent.LSTMCell object at 0x0000014B5C46DFA0> has the same name 'LSTMCell' as a built-in Keras object. Consider renaming <class 'keras.layers.recurrent.LSTMCell'> to avoid naming conflicts when loading with `tf.keras.models.load_model`. If renaming is not possible, pass the object in the `custom_objects` parameter of the load function.\n",
      "WARNING:absl:<keras.layers.recurrent.LSTMCell object at 0x0000014BA4D70670> has the same name 'LSTMCell' as a built-in Keras object. Consider renaming <class 'keras.layers.recurrent.LSTMCell'> to avoid naming conflicts when loading with `tf.keras.models.load_model`. If renaming is not possible, pass the object in the `custom_objects` parameter of the load function.\n"
     ]
    }
   ],
   "source": [
    "regressor.save(r'C:\\Users\\chriq\\OneDrive\\Documents\\my_data\\MLdata\\mymodels\\lstm_num_input')"
   ]
  },
  {
   "cell_type": "markdown",
   "id": "5c54da4d",
   "metadata": {},
   "source": [
    "# Prepare and try test set"
   ]
  },
  {
   "cell_type": "code",
   "execution_count": 24,
   "id": "6409d5e0",
   "metadata": {
    "ExecuteTime": {
     "end_time": "2022-02-26T20:35:15.707372Z",
     "start_time": "2022-02-26T20:35:09.892206Z"
    }
   },
   "outputs": [],
   "source": [
    "test=pd.read_pickle(r'C:\\Users\\chriq\\OneDrive\\Documents\\my_data\\MLdata\\test_set.zip')"
   ]
  },
  {
   "cell_type": "code",
   "execution_count": 41,
   "id": "6e30104f",
   "metadata": {
    "ExecuteTime": {
     "end_time": "2022-02-26T20:43:36.641196Z",
     "start_time": "2022-02-26T20:43:36.576911Z"
    }
   },
   "outputs": [
    {
     "data": {
      "text/html": [
       "<div>\n",
       "<style scoped>\n",
       "    .dataframe tbody tr th:only-of-type {\n",
       "        vertical-align: middle;\n",
       "    }\n",
       "\n",
       "    .dataframe tbody tr th {\n",
       "        vertical-align: top;\n",
       "    }\n",
       "\n",
       "    .dataframe thead th {\n",
       "        text-align: right;\n",
       "    }\n",
       "</style>\n",
       "<table border=\"1\" class=\"dataframe\">\n",
       "  <thead>\n",
       "    <tr style=\"text-align: right;\">\n",
       "      <th></th>\n",
       "      <th>obfuscated_bool</th>\n",
       "      <th>js</th>\n",
       "      <th>js_length</th>\n",
       "      <th>num_spaces</th>\n",
       "      <th>num_parenthesis</th>\n",
       "      <th>num_slash</th>\n",
       "      <th>num_plus</th>\n",
       "      <th>num_point</th>\n",
       "      <th>num_comma</th>\n",
       "      <th>num_semicolon</th>\n",
       "      <th>...</th>\n",
       "      <th>ratio_spaces</th>\n",
       "      <th>ratio_alpha</th>\n",
       "      <th>ratio_numeric</th>\n",
       "      <th>ratio_parenthesis</th>\n",
       "      <th>ratio_slash</th>\n",
       "      <th>ratio_plus</th>\n",
       "      <th>ratio_point</th>\n",
       "      <th>ratio_comma</th>\n",
       "      <th>ratio_semicolon</th>\n",
       "      <th>num_par</th>\n",
       "    </tr>\n",
       "  </thead>\n",
       "  <tbody>\n",
       "    <tr>\n",
       "      <th>162438</th>\n",
       "      <td>1</td>\n",
       "      <td>var a0_0x190c = [\\n    'result',\\n    '687571V...</td>\n",
       "      <td>1531</td>\n",
       "      <td>309</td>\n",
       "      <td>74</td>\n",
       "      <td>0</td>\n",
       "      <td>6</td>\n",
       "      <td>0</td>\n",
       "      <td>27</td>\n",
       "      <td>15</td>\n",
       "      <td>...</td>\n",
       "      <td>0.201829</td>\n",
       "      <td>0.605487</td>\n",
       "      <td>0.266492</td>\n",
       "      <td>0.048334</td>\n",
       "      <td>0.000000</td>\n",
       "      <td>0.003919</td>\n",
       "      <td>0.000000</td>\n",
       "      <td>0.017636</td>\n",
       "      <td>0.009798</td>\n",
       "      <td>[1531, 309, 74, 0, 6, 0, 27, 15, 927, 408, 0.2...</td>\n",
       "    </tr>\n",
       "    <tr>\n",
       "      <th>121867</th>\n",
       "      <td>1</td>\n",
       "      <td>\\n(function ($fog$1691, $fog$0, $fog$1, $fog$2...</td>\n",
       "      <td>138160</td>\n",
       "      <td>28175</td>\n",
       "      <td>2623</td>\n",
       "      <td>24</td>\n",
       "      <td>323</td>\n",
       "      <td>395</td>\n",
       "      <td>6361</td>\n",
       "      <td>917</td>\n",
       "      <td>...</td>\n",
       "      <td>0.203930</td>\n",
       "      <td>0.570172</td>\n",
       "      <td>0.139266</td>\n",
       "      <td>0.018985</td>\n",
       "      <td>0.000174</td>\n",
       "      <td>0.002338</td>\n",
       "      <td>0.002859</td>\n",
       "      <td>0.046041</td>\n",
       "      <td>0.006637</td>\n",
       "      <td>[138160, 28175, 2623, 24, 323, 395, 6361, 917,...</td>\n",
       "    </tr>\n",
       "    <tr>\n",
       "      <th>168134</th>\n",
       "      <td>1</td>\n",
       "      <td>(function(){function a(f,g){var b=new Array(9)...</td>\n",
       "      <td>9437</td>\n",
       "      <td>140</td>\n",
       "      <td>706</td>\n",
       "      <td>6</td>\n",
       "      <td>122</td>\n",
       "      <td>176</td>\n",
       "      <td>433</td>\n",
       "      <td>398</td>\n",
       "      <td>...</td>\n",
       "      <td>0.014835</td>\n",
       "      <td>0.608350</td>\n",
       "      <td>0.207163</td>\n",
       "      <td>0.074812</td>\n",
       "      <td>0.000636</td>\n",
       "      <td>0.012928</td>\n",
       "      <td>0.018650</td>\n",
       "      <td>0.045883</td>\n",
       "      <td>0.042174</td>\n",
       "      <td>[9437, 140, 706, 6, 122, 176, 433, 398, 5741, ...</td>\n",
       "    </tr>\n",
       "    <tr>\n",
       "      <th>139568</th>\n",
       "      <td>1</td>\n",
       "      <td>var a0_0x1616 = [\\n    'serialize',\\n    '#sha...</td>\n",
       "      <td>7293</td>\n",
       "      <td>1125</td>\n",
       "      <td>566</td>\n",
       "      <td>8</td>\n",
       "      <td>20</td>\n",
       "      <td>20</td>\n",
       "      <td>113</td>\n",
       "      <td>61</td>\n",
       "      <td>...</td>\n",
       "      <td>0.154258</td>\n",
       "      <td>0.632799</td>\n",
       "      <td>0.197450</td>\n",
       "      <td>0.077609</td>\n",
       "      <td>0.001097</td>\n",
       "      <td>0.002742</td>\n",
       "      <td>0.002742</td>\n",
       "      <td>0.015494</td>\n",
       "      <td>0.008364</td>\n",
       "      <td>[7293, 1125, 566, 8, 20, 20, 113, 61, 4615, 14...</td>\n",
       "    </tr>\n",
       "    <tr>\n",
       "      <th>52426</th>\n",
       "      <td>0</td>\n",
       "      <td>\\n\\n\\n\\n\\n\\nif (typeof KJUR == \"undefined\" || ...</td>\n",
       "      <td>10712</td>\n",
       "      <td>2566</td>\n",
       "      <td>304</td>\n",
       "      <td>6</td>\n",
       "      <td>9</td>\n",
       "      <td>407</td>\n",
       "      <td>39</td>\n",
       "      <td>189</td>\n",
       "      <td>...</td>\n",
       "      <td>0.239544</td>\n",
       "      <td>0.587005</td>\n",
       "      <td>0.018484</td>\n",
       "      <td>0.028379</td>\n",
       "      <td>0.000560</td>\n",
       "      <td>0.000840</td>\n",
       "      <td>0.037995</td>\n",
       "      <td>0.003641</td>\n",
       "      <td>0.017644</td>\n",
       "      <td>[10712, 2566, 304, 6, 9, 407, 39, 189, 6288, 1...</td>\n",
       "    </tr>\n",
       "    <tr>\n",
       "      <th>...</th>\n",
       "      <td>...</td>\n",
       "      <td>...</td>\n",
       "      <td>...</td>\n",
       "      <td>...</td>\n",
       "      <td>...</td>\n",
       "      <td>...</td>\n",
       "      <td>...</td>\n",
       "      <td>...</td>\n",
       "      <td>...</td>\n",
       "      <td>...</td>\n",
       "      <td>...</td>\n",
       "      <td>...</td>\n",
       "      <td>...</td>\n",
       "      <td>...</td>\n",
       "      <td>...</td>\n",
       "      <td>...</td>\n",
       "      <td>...</td>\n",
       "      <td>...</td>\n",
       "      <td>...</td>\n",
       "      <td>...</td>\n",
       "      <td>...</td>\n",
       "    </tr>\n",
       "    <tr>\n",
       "      <th>11199</th>\n",
       "      <td>0</td>\n",
       "      <td>'use strict';\\n\\nvar ub = require('uibase');\\n...</td>\n",
       "      <td>1367</td>\n",
       "      <td>450</td>\n",
       "      <td>54</td>\n",
       "      <td>0</td>\n",
       "      <td>4</td>\n",
       "      <td>21</td>\n",
       "      <td>17</td>\n",
       "      <td>22</td>\n",
       "      <td>...</td>\n",
       "      <td>0.329188</td>\n",
       "      <td>0.456474</td>\n",
       "      <td>0.016825</td>\n",
       "      <td>0.039503</td>\n",
       "      <td>0.000000</td>\n",
       "      <td>0.002926</td>\n",
       "      <td>0.015362</td>\n",
       "      <td>0.012436</td>\n",
       "      <td>0.016094</td>\n",
       "      <td>[1367, 450, 54, 0, 4, 21, 17, 22, 624, 23, 0.3...</td>\n",
       "    </tr>\n",
       "    <tr>\n",
       "      <th>31062</th>\n",
       "      <td>0</td>\n",
       "      <td>module.exports = {\\n  breakpoints: {\\n    '1x'...</td>\n",
       "      <td>1047</td>\n",
       "      <td>429</td>\n",
       "      <td>4</td>\n",
       "      <td>0</td>\n",
       "      <td>0</td>\n",
       "      <td>9</td>\n",
       "      <td>28</td>\n",
       "      <td>1</td>\n",
       "      <td>...</td>\n",
       "      <td>0.409742</td>\n",
       "      <td>0.423114</td>\n",
       "      <td>0.098376</td>\n",
       "      <td>0.003820</td>\n",
       "      <td>0.000000</td>\n",
       "      <td>0.000000</td>\n",
       "      <td>0.008596</td>\n",
       "      <td>0.026743</td>\n",
       "      <td>0.000955</td>\n",
       "      <td>[1047, 429, 4, 0, 0, 9, 28, 1, 443, 103, 0.409...</td>\n",
       "    </tr>\n",
       "    <tr>\n",
       "      <th>93141</th>\n",
       "      <td>0</td>\n",
       "      <td>;(function($) {\\n\\n\\t$.noty.themes.defaultThem...</td>\n",
       "      <td>6060</td>\n",
       "      <td>286</td>\n",
       "      <td>149</td>\n",
       "      <td>16</td>\n",
       "      <td>16</td>\n",
       "      <td>110</td>\n",
       "      <td>77</td>\n",
       "      <td>57</td>\n",
       "      <td>...</td>\n",
       "      <td>0.047195</td>\n",
       "      <td>0.664356</td>\n",
       "      <td>0.050330</td>\n",
       "      <td>0.024587</td>\n",
       "      <td>0.002640</td>\n",
       "      <td>0.002640</td>\n",
       "      <td>0.018152</td>\n",
       "      <td>0.012706</td>\n",
       "      <td>0.009406</td>\n",
       "      <td>[6060, 286, 149, 16, 16, 110, 77, 57, 4026, 30...</td>\n",
       "    </tr>\n",
       "    <tr>\n",
       "      <th>23958</th>\n",
       "      <td>0</td>\n",
       "      <td>\\n\\nMathJax.Localization.addTranslation(\"mk\",\"...</td>\n",
       "      <td>5010</td>\n",
       "      <td>142</td>\n",
       "      <td>10</td>\n",
       "      <td>3</td>\n",
       "      <td>0</td>\n",
       "      <td>16</td>\n",
       "      <td>16</td>\n",
       "      <td>2</td>\n",
       "      <td>...</td>\n",
       "      <td>0.028343</td>\n",
       "      <td>0.803992</td>\n",
       "      <td>0.536128</td>\n",
       "      <td>0.001996</td>\n",
       "      <td>0.000599</td>\n",
       "      <td>0.000000</td>\n",
       "      <td>0.003194</td>\n",
       "      <td>0.003194</td>\n",
       "      <td>0.000399</td>\n",
       "      <td>[5010, 142, 10, 3, 0, 16, 16, 2, 4028, 2686, 0...</td>\n",
       "    </tr>\n",
       "    <tr>\n",
       "      <th>19293</th>\n",
       "      <td>0</td>\n",
       "      <td>describe(\"@deprecated tag\", function() {\\n    ...</td>\n",
       "      <td>587</td>\n",
       "      <td>105</td>\n",
       "      <td>26</td>\n",
       "      <td>2</td>\n",
       "      <td>0</td>\n",
       "      <td>11</td>\n",
       "      <td>7</td>\n",
       "      <td>6</td>\n",
       "      <td>...</td>\n",
       "      <td>0.178876</td>\n",
       "      <td>0.659284</td>\n",
       "      <td>0.006814</td>\n",
       "      <td>0.044293</td>\n",
       "      <td>0.003407</td>\n",
       "      <td>0.000000</td>\n",
       "      <td>0.018739</td>\n",
       "      <td>0.011925</td>\n",
       "      <td>0.010221</td>\n",
       "      <td>[587, 105, 26, 2, 0, 11, 7, 6, 387, 4, 0.17887...</td>\n",
       "    </tr>\n",
       "  </tbody>\n",
       "</table>\n",
       "<p>37510 rows × 22 columns</p>\n",
       "</div>"
      ],
      "text/plain": [
       "       obfuscated_bool                                                 js  \\\n",
       "162438               1  var a0_0x190c = [\\n    'result',\\n    '687571V...   \n",
       "121867               1  \\n(function ($fog$1691, $fog$0, $fog$1, $fog$2...   \n",
       "168134               1  (function(){function a(f,g){var b=new Array(9)...   \n",
       "139568               1  var a0_0x1616 = [\\n    'serialize',\\n    '#sha...   \n",
       "52426                0  \\n\\n\\n\\n\\n\\nif (typeof KJUR == \"undefined\" || ...   \n",
       "...                ...                                                ...   \n",
       "11199                0  'use strict';\\n\\nvar ub = require('uibase');\\n...   \n",
       "31062                0  module.exports = {\\n  breakpoints: {\\n    '1x'...   \n",
       "93141                0  ;(function($) {\\n\\n\\t$.noty.themes.defaultThem...   \n",
       "23958                0  \\n\\nMathJax.Localization.addTranslation(\"mk\",\"...   \n",
       "19293                0  describe(\"@deprecated tag\", function() {\\n    ...   \n",
       "\n",
       "        js_length  num_spaces  num_parenthesis  num_slash  num_plus  \\\n",
       "162438       1531         309               74          0         6   \n",
       "121867     138160       28175             2623         24       323   \n",
       "168134       9437         140              706          6       122   \n",
       "139568       7293        1125              566          8        20   \n",
       "52426       10712        2566              304          6         9   \n",
       "...           ...         ...              ...        ...       ...   \n",
       "11199        1367         450               54          0         4   \n",
       "31062        1047         429                4          0         0   \n",
       "93141        6060         286              149         16        16   \n",
       "23958        5010         142               10          3         0   \n",
       "19293         587         105               26          2         0   \n",
       "\n",
       "        num_point  num_comma  num_semicolon  ...  ratio_spaces  ratio_alpha  \\\n",
       "162438          0         27             15  ...      0.201829     0.605487   \n",
       "121867        395       6361            917  ...      0.203930     0.570172   \n",
       "168134        176        433            398  ...      0.014835     0.608350   \n",
       "139568         20        113             61  ...      0.154258     0.632799   \n",
       "52426         407         39            189  ...      0.239544     0.587005   \n",
       "...           ...        ...            ...  ...           ...          ...   \n",
       "11199          21         17             22  ...      0.329188     0.456474   \n",
       "31062           9         28              1  ...      0.409742     0.423114   \n",
       "93141         110         77             57  ...      0.047195     0.664356   \n",
       "23958          16         16              2  ...      0.028343     0.803992   \n",
       "19293          11          7              6  ...      0.178876     0.659284   \n",
       "\n",
       "        ratio_numeric  ratio_parenthesis  ratio_slash  ratio_plus  \\\n",
       "162438       0.266492           0.048334     0.000000    0.003919   \n",
       "121867       0.139266           0.018985     0.000174    0.002338   \n",
       "168134       0.207163           0.074812     0.000636    0.012928   \n",
       "139568       0.197450           0.077609     0.001097    0.002742   \n",
       "52426        0.018484           0.028379     0.000560    0.000840   \n",
       "...               ...                ...          ...         ...   \n",
       "11199        0.016825           0.039503     0.000000    0.002926   \n",
       "31062        0.098376           0.003820     0.000000    0.000000   \n",
       "93141        0.050330           0.024587     0.002640    0.002640   \n",
       "23958        0.536128           0.001996     0.000599    0.000000   \n",
       "19293        0.006814           0.044293     0.003407    0.000000   \n",
       "\n",
       "        ratio_point  ratio_comma  ratio_semicolon  \\\n",
       "162438     0.000000     0.017636         0.009798   \n",
       "121867     0.002859     0.046041         0.006637   \n",
       "168134     0.018650     0.045883         0.042174   \n",
       "139568     0.002742     0.015494         0.008364   \n",
       "52426      0.037995     0.003641         0.017644   \n",
       "...             ...          ...              ...   \n",
       "11199      0.015362     0.012436         0.016094   \n",
       "31062      0.008596     0.026743         0.000955   \n",
       "93141      0.018152     0.012706         0.009406   \n",
       "23958      0.003194     0.003194         0.000399   \n",
       "19293      0.018739     0.011925         0.010221   \n",
       "\n",
       "                                                  num_par  \n",
       "162438  [1531, 309, 74, 0, 6, 0, 27, 15, 927, 408, 0.2...  \n",
       "121867  [138160, 28175, 2623, 24, 323, 395, 6361, 917,...  \n",
       "168134  [9437, 140, 706, 6, 122, 176, 433, 398, 5741, ...  \n",
       "139568  [7293, 1125, 566, 8, 20, 20, 113, 61, 4615, 14...  \n",
       "52426   [10712, 2566, 304, 6, 9, 407, 39, 189, 6288, 1...  \n",
       "...                                                   ...  \n",
       "11199   [1367, 450, 54, 0, 4, 21, 17, 22, 624, 23, 0.3...  \n",
       "31062   [1047, 429, 4, 0, 0, 9, 28, 1, 443, 103, 0.409...  \n",
       "93141   [6060, 286, 149, 16, 16, 110, 77, 57, 4026, 30...  \n",
       "23958   [5010, 142, 10, 3, 0, 16, 16, 2, 4028, 2686, 0...  \n",
       "19293   [587, 105, 26, 2, 0, 11, 7, 6, 387, 4, 0.17887...  \n",
       "\n",
       "[37510 rows x 22 columns]"
      ]
     },
     "execution_count": 41,
     "metadata": {},
     "output_type": "execute_result"
    }
   ],
   "source": [
    "test"
   ]
  },
  {
   "cell_type": "code",
   "execution_count": null,
   "id": "976b4f1e",
   "metadata": {
    "ExecuteTime": {
     "end_time": "2022-02-26T20:43:37.463939Z",
     "start_time": "2022-02-26T20:43:37.428573Z"
    }
   },
   "outputs": [],
   "source": [
    "test.drop(columns='obfuscator_name',inplace=True)"
   ]
  },
  {
   "cell_type": "code",
   "execution_count": 27,
   "id": "3bfd37b8",
   "metadata": {
    "ExecuteTime": {
     "end_time": "2022-02-26T20:35:22.375092Z",
     "start_time": "2022-02-26T20:35:21.412947Z"
    }
   },
   "outputs": [],
   "source": [
    "test['num_par']=test.apply(lambda x:x[2:].tolist(),axis=1)"
   ]
  },
  {
   "cell_type": "code",
   "execution_count": 43,
   "id": "76181325",
   "metadata": {
    "ExecuteTime": {
     "end_time": "2022-02-26T20:43:45.405969Z",
     "start_time": "2022-02-26T20:43:45.399969Z"
    }
   },
   "outputs": [
    {
     "data": {
      "text/plain": [
       "19"
      ]
     },
     "execution_count": 43,
     "metadata": {},
     "output_type": "execute_result"
    }
   ],
   "source": [
    "len(test.num_par.iloc[0])"
   ]
  },
  {
   "cell_type": "code",
   "execution_count": 44,
   "id": "2981d4ce",
   "metadata": {
    "ExecuteTime": {
     "end_time": "2022-02-26T20:43:46.339205Z",
     "start_time": "2022-02-26T20:43:46.331204Z"
    }
   },
   "outputs": [],
   "source": [
    "labels=test.obfuscated_bool.to_numpy()\n",
    "labels_onehot=pd.get_dummies(labels).values"
   ]
  },
  {
   "cell_type": "code",
   "execution_count": 45,
   "id": "a5922eb2",
   "metadata": {
    "ExecuteTime": {
     "end_time": "2022-02-26T20:43:46.931064Z",
     "start_time": "2022-02-26T20:43:46.926999Z"
    }
   },
   "outputs": [
    {
     "data": {
      "text/plain": [
       "array([[0, 1],\n",
       "       [0, 1],\n",
       "       [0, 1],\n",
       "       ...,\n",
       "       [1, 0],\n",
       "       [1, 0],\n",
       "       [1, 0]], dtype=uint8)"
      ]
     },
     "execution_count": 45,
     "metadata": {},
     "output_type": "execute_result"
    }
   ],
   "source": [
    "labels_onehot"
   ]
  },
  {
   "cell_type": "code",
   "execution_count": 46,
   "id": "95d9b3de",
   "metadata": {
    "ExecuteTime": {
     "end_time": "2022-02-26T20:43:47.849457Z",
     "start_time": "2022-02-26T20:43:47.783445Z"
    }
   },
   "outputs": [
    {
     "data": {
      "text/plain": [
       "array([1.53100000e+03, 3.09000000e+02, 7.40000000e+01, 0.00000000e+00,\n",
       "       6.00000000e+00, 0.00000000e+00, 2.70000000e+01, 1.50000000e+01,\n",
       "       9.27000000e+02, 4.08000000e+02, 2.01828870e-01, 6.05486610e-01,\n",
       "       2.66492489e-01, 4.83344219e-02, 0.00000000e+00, 3.91900718e-03,\n",
       "       0.00000000e+00, 1.76355323e-02, 9.79751796e-03])"
      ]
     },
     "execution_count": 46,
     "metadata": {},
     "output_type": "execute_result"
    }
   ],
   "source": [
    "nn_input=np.array(test.num_par.to_list())\n",
    "nn_input[0]"
   ]
  },
  {
   "cell_type": "code",
   "execution_count": 47,
   "id": "21256a81",
   "metadata": {
    "ExecuteTime": {
     "end_time": "2022-02-26T20:43:49.322195Z",
     "start_time": "2022-02-26T20:43:49.307108Z"
    }
   },
   "outputs": [
    {
     "name": "stdout",
     "output_type": "stream",
     "text": [
      "mean: 2629.5831881739987\n",
      "std: 47816.69419119269\n",
      "min: 0.0\n",
      "max: 11980306.0\n"
     ]
    }
   ],
   "source": [
    "print(f\"mean: {nn_input.mean()}\\nstd: {nn_input.std()}\")\n",
    "print(f\"min: {nn_input.min()}\\nmax: {nn_input.max()}\")"
   ]
  },
  {
   "cell_type": "markdown",
   "id": "0d2994e7",
   "metadata": {
    "ExecuteTime": {
     "end_time": "2022-02-25T13:03:04.443610Z",
     "start_time": "2022-02-25T13:03:04.429609Z"
    }
   },
   "source": [
    "## Actual evaluation of the model on test set, Disappointing "
   ]
  },
  {
   "cell_type": "code",
   "execution_count": 50,
   "id": "b86c3afb",
   "metadata": {
    "ExecuteTime": {
     "end_time": "2022-02-26T20:43:56.782860Z",
     "start_time": "2022-02-26T20:43:52.803622Z"
    }
   },
   "outputs": [
    {
     "name": "stdout",
     "output_type": "stream",
     "text": [
      "1173/1173 [==============================] - 4s 3ms/step - loss: 0.0115 - accuracy: 0.9858 - f1_m: 0.9858\n"
     ]
    },
    {
     "data": {
      "text/plain": [
       "[0.011525290086865425, 0.9857637882232666, 0.9857736825942993]"
      ]
     },
     "execution_count": 50,
     "metadata": {},
     "output_type": "execute_result"
    }
   ],
   "source": [
    "regressor.evaluate(nn_input,labels_onehot)"
   ]
  },
  {
   "cell_type": "code",
   "execution_count": null,
   "id": "ef37bf5d",
   "metadata": {},
   "outputs": [],
   "source": []
  }
 ],
 "metadata": {
  "kernelspec": {
   "display_name": "Python 3",
   "language": "python",
   "name": "python3"
  },
  "language_info": {
   "codemirror_mode": {
    "name": "ipython",
    "version": 3
   },
   "file_extension": ".py",
   "mimetype": "text/x-python",
   "name": "python",
   "nbconvert_exporter": "python",
   "pygments_lexer": "ipython3",
   "version": "3.8.8"
  },
  "toc": {
   "base_numbering": 1,
   "nav_menu": {},
   "number_sections": true,
   "sideBar": true,
   "skip_h1_title": false,
   "title_cell": "Table of Contents",
   "title_sidebar": "Contents",
   "toc_cell": false,
   "toc_position": {
    "height": "calc(100% - 180px)",
    "left": "10px",
    "top": "150px",
    "width": "245.76px"
   },
   "toc_section_display": true,
   "toc_window_display": false
  }
 },
 "nbformat": 4,
 "nbformat_minor": 5
}
