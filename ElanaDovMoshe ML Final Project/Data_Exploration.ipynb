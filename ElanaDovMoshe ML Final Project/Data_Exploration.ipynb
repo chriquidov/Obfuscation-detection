{
  "nbformat": 4,
  "nbformat_minor": 0,
  "metadata": {
    "colab": {
      "name": "ML Final Project Data Exploration.ipynb",
      "provenance": [],
      "collapsed_sections": []
    },
    "kernelspec": {
      "name": "python3",
      "display_name": "Python 3"
    },
    "language_info": {
      "name": "python"
    }
  },
  "cells": [
    {
      "cell_type": "code",
      "source": [
        "import numpy as np, os, pickle\n",
        "import pandas as pd\n",
        "import matplotlib.pyplot as plt\n",
        "import re\n",
        "\n",
        "## Import up sound alert dependencies\n",
        "from IPython.display import Audio, display\n",
        "\n",
        "def allDone():\n",
        "    display(Audio(url='https://sound.peal.io/ps/audios/000/000/537/original/woo_vu_luvub_dub_dub.wav', autoplay=True))\n",
        "## Insert whatever audio file you want above"
      ],
      "metadata": {
        "id": "Rk_r4seWBni9"
      },
      "execution_count": 1,
      "outputs": []
    },
    {
      "cell_type": "code",
      "source": [
        "from google.colab import drive\n",
        "drive.mount('/content/drive', force_remount=True) "
      ],
      "metadata": {
        "colab": {
          "base_uri": "https://localhost:8080/"
        },
        "id": "YvfFXnUtj01x",
        "outputId": "49bcfaa5-b08e-4d5a-9492-9e29dbf3b96a"
      },
      "execution_count": 2,
      "outputs": [
        {
          "output_type": "stream",
          "name": "stdout",
          "text": [
            "Mounted at /content/drive\n"
          ]
        }
      ]
    },
    {
      "cell_type": "code",
      "source": [
        "#Load the train set\n",
        "file_name  = r'/content/drive/My Drive//Final_Project_Machine_Learning/train_set.zip'\n",
        "train_data=pd.read_pickle(file_name)\n"
      ],
      "metadata": {
        "id": "jl6mbc1kj1TA"
      },
      "execution_count": 3,
      "outputs": []
    },
    {
      "cell_type": "code",
      "source": [
        "#Load the test set\n",
        "file_name  = r'/content/drive/My Drive//Final_Project_Machine_Learning/test_set.zip'\n",
        "test_data=pd.read_pickle(file_name)\n"
      ],
      "metadata": {
        "id": "8INIjuLmonCZ"
      },
      "execution_count": 4,
      "outputs": []
    },
    {
      "cell_type": "code",
      "source": [
        "frames = [train_data, test_data]\n",
        "total_data = pd.concat(frames)"
      ],
      "metadata": {
        "id": "AGgO4XIG-OoV"
      },
      "execution_count": 5,
      "outputs": []
    },
    {
      "cell_type": "code",
      "source": [
        "total_data.head()"
      ],
      "metadata": {
        "colab": {
          "base_uri": "https://localhost:8080/",
          "height": 270
        },
        "id": "dxyhGzGz-OrP",
        "outputId": "b168cd9c-ec90-4a74-9e19-de90d6afa828"
      },
      "execution_count": 6,
      "outputs": [
        {
          "output_type": "execute_result",
          "data": {
            "text/html": [
              "\n",
              "  <div id=\"df-ef47fc89-5038-4b07-926b-ba90408f192a\">\n",
              "    <div class=\"colab-df-container\">\n",
              "      <div>\n",
              "<style scoped>\n",
              "    .dataframe tbody tr th:only-of-type {\n",
              "        vertical-align: middle;\n",
              "    }\n",
              "\n",
              "    .dataframe tbody tr th {\n",
              "        vertical-align: top;\n",
              "    }\n",
              "\n",
              "    .dataframe thead th {\n",
              "        text-align: right;\n",
              "    }\n",
              "</style>\n",
              "<table border=\"1\" class=\"dataframe\">\n",
              "  <thead>\n",
              "    <tr style=\"text-align: right;\">\n",
              "      <th></th>\n",
              "      <th>obfuscated_bool</th>\n",
              "      <th>js</th>\n",
              "      <th>obfuscator_name</th>\n",
              "      <th>js_length</th>\n",
              "      <th>num_spaces</th>\n",
              "      <th>num_parenthesis</th>\n",
              "      <th>num_slash</th>\n",
              "      <th>num_plus</th>\n",
              "      <th>num_point</th>\n",
              "      <th>num_comma</th>\n",
              "      <th>num_semicolon</th>\n",
              "      <th>num_alpha</th>\n",
              "      <th>num_numeric</th>\n",
              "      <th>ratio_spaces</th>\n",
              "      <th>ratio_alpha</th>\n",
              "      <th>ratio_numeric</th>\n",
              "      <th>ratio_parenthesis</th>\n",
              "      <th>ratio_slash</th>\n",
              "      <th>ratio_plus</th>\n",
              "      <th>ratio_point</th>\n",
              "      <th>ratio_comma</th>\n",
              "      <th>ratio_semicolon</th>\n",
              "    </tr>\n",
              "  </thead>\n",
              "  <tbody>\n",
              "    <tr>\n",
              "      <th>115028</th>\n",
              "      <td>1</td>\n",
              "      <td>\\nvar a0_0x5108 = [\\n    'onreadystatechange',...</td>\n",
              "      <td>obfuscator_io</td>\n",
              "      <td>4138</td>\n",
              "      <td>1057</td>\n",
              "      <td>178</td>\n",
              "      <td>0</td>\n",
              "      <td>8</td>\n",
              "      <td>0</td>\n",
              "      <td>56</td>\n",
              "      <td>37</td>\n",
              "      <td>2404</td>\n",
              "      <td>972</td>\n",
              "      <td>0.255437</td>\n",
              "      <td>0.580957</td>\n",
              "      <td>0.234896</td>\n",
              "      <td>0.043016</td>\n",
              "      <td>0.000000</td>\n",
              "      <td>0.001933</td>\n",
              "      <td>0.000000</td>\n",
              "      <td>0.013533</td>\n",
              "      <td>0.008942</td>\n",
              "    </tr>\n",
              "    <tr>\n",
              "      <th>85481</th>\n",
              "      <td>0</td>\n",
              "      <td>\\n\\n\\n\\n\\n\\ngoog.provide('goog.dom');\\ngoog.pr...</td>\n",
              "      <td>0</td>\n",
              "      <td>49232</td>\n",
              "      <td>8591</td>\n",
              "      <td>867</td>\n",
              "      <td>25</td>\n",
              "      <td>29</td>\n",
              "      <td>1248</td>\n",
              "      <td>229</td>\n",
              "      <td>398</td>\n",
              "      <td>33518</td>\n",
              "      <td>152</td>\n",
              "      <td>0.174500</td>\n",
              "      <td>0.680817</td>\n",
              "      <td>0.003087</td>\n",
              "      <td>0.017610</td>\n",
              "      <td>0.000508</td>\n",
              "      <td>0.000589</td>\n",
              "      <td>0.025349</td>\n",
              "      <td>0.004651</td>\n",
              "      <td>0.008084</td>\n",
              "    </tr>\n",
              "    <tr>\n",
              "      <th>24018</th>\n",
              "      <td>0</td>\n",
              "      <td>\\n\\nMathJax.OutputJax.SVG.FONTDATA.FONTS[\"STIX...</td>\n",
              "      <td>0</td>\n",
              "      <td>30618</td>\n",
              "      <td>6448</td>\n",
              "      <td>2</td>\n",
              "      <td>4</td>\n",
              "      <td>1</td>\n",
              "      <td>10</td>\n",
              "      <td>327</td>\n",
              "      <td>2</td>\n",
              "      <td>19956</td>\n",
              "      <td>18175</td>\n",
              "      <td>0.210595</td>\n",
              "      <td>0.651773</td>\n",
              "      <td>0.593605</td>\n",
              "      <td>0.000065</td>\n",
              "      <td>0.000131</td>\n",
              "      <td>0.000033</td>\n",
              "      <td>0.000327</td>\n",
              "      <td>0.010680</td>\n",
              "      <td>0.000065</td>\n",
              "    </tr>\n",
              "    <tr>\n",
              "      <th>184850</th>\n",
              "      <td>1</td>\n",
              "      <td>var a0_0x3281 = [\\n    '165473rekVYY',\\n    '1...</td>\n",
              "      <td>obfuscator_io</td>\n",
              "      <td>1295</td>\n",
              "      <td>267</td>\n",
              "      <td>74</td>\n",
              "      <td>0</td>\n",
              "      <td>6</td>\n",
              "      <td>0</td>\n",
              "      <td>19</td>\n",
              "      <td>12</td>\n",
              "      <td>792</td>\n",
              "      <td>323</td>\n",
              "      <td>0.206178</td>\n",
              "      <td>0.611583</td>\n",
              "      <td>0.249421</td>\n",
              "      <td>0.057143</td>\n",
              "      <td>0.000000</td>\n",
              "      <td>0.004633</td>\n",
              "      <td>0.000000</td>\n",
              "      <td>0.014672</td>\n",
              "      <td>0.009266</td>\n",
              "    </tr>\n",
              "    <tr>\n",
              "      <th>128047</th>\n",
              "      <td>1</td>\n",
              "      <td>\\n(function ($fog$136, $fog$0, $fog$1, $fog$2,...</td>\n",
              "      <td>jfogs</td>\n",
              "      <td>14673</td>\n",
              "      <td>1767</td>\n",
              "      <td>800</td>\n",
              "      <td>15</td>\n",
              "      <td>4</td>\n",
              "      <td>2</td>\n",
              "      <td>334</td>\n",
              "      <td>221</td>\n",
              "      <td>8581</td>\n",
              "      <td>1363</td>\n",
              "      <td>0.120425</td>\n",
              "      <td>0.584816</td>\n",
              "      <td>0.092892</td>\n",
              "      <td>0.054522</td>\n",
              "      <td>0.001022</td>\n",
              "      <td>0.000273</td>\n",
              "      <td>0.000136</td>\n",
              "      <td>0.022763</td>\n",
              "      <td>0.015062</td>\n",
              "    </tr>\n",
              "  </tbody>\n",
              "</table>\n",
              "</div>\n",
              "      <button class=\"colab-df-convert\" onclick=\"convertToInteractive('df-ef47fc89-5038-4b07-926b-ba90408f192a')\"\n",
              "              title=\"Convert this dataframe to an interactive table.\"\n",
              "              style=\"display:none;\">\n",
              "        \n",
              "  <svg xmlns=\"http://www.w3.org/2000/svg\" height=\"24px\"viewBox=\"0 0 24 24\"\n",
              "       width=\"24px\">\n",
              "    <path d=\"M0 0h24v24H0V0z\" fill=\"none\"/>\n",
              "    <path d=\"M18.56 5.44l.94 2.06.94-2.06 2.06-.94-2.06-.94-.94-2.06-.94 2.06-2.06.94zm-11 1L8.5 8.5l.94-2.06 2.06-.94-2.06-.94L8.5 2.5l-.94 2.06-2.06.94zm10 10l.94 2.06.94-2.06 2.06-.94-2.06-.94-.94-2.06-.94 2.06-2.06.94z\"/><path d=\"M17.41 7.96l-1.37-1.37c-.4-.4-.92-.59-1.43-.59-.52 0-1.04.2-1.43.59L10.3 9.45l-7.72 7.72c-.78.78-.78 2.05 0 2.83L4 21.41c.39.39.9.59 1.41.59.51 0 1.02-.2 1.41-.59l7.78-7.78 2.81-2.81c.8-.78.8-2.07 0-2.86zM5.41 20L4 18.59l7.72-7.72 1.47 1.35L5.41 20z\"/>\n",
              "  </svg>\n",
              "      </button>\n",
              "      \n",
              "  <style>\n",
              "    .colab-df-container {\n",
              "      display:flex;\n",
              "      flex-wrap:wrap;\n",
              "      gap: 12px;\n",
              "    }\n",
              "\n",
              "    .colab-df-convert {\n",
              "      background-color: #E8F0FE;\n",
              "      border: none;\n",
              "      border-radius: 50%;\n",
              "      cursor: pointer;\n",
              "      display: none;\n",
              "      fill: #1967D2;\n",
              "      height: 32px;\n",
              "      padding: 0 0 0 0;\n",
              "      width: 32px;\n",
              "    }\n",
              "\n",
              "    .colab-df-convert:hover {\n",
              "      background-color: #E2EBFA;\n",
              "      box-shadow: 0px 1px 2px rgba(60, 64, 67, 0.3), 0px 1px 3px 1px rgba(60, 64, 67, 0.15);\n",
              "      fill: #174EA6;\n",
              "    }\n",
              "\n",
              "    [theme=dark] .colab-df-convert {\n",
              "      background-color: #3B4455;\n",
              "      fill: #D2E3FC;\n",
              "    }\n",
              "\n",
              "    [theme=dark] .colab-df-convert:hover {\n",
              "      background-color: #434B5C;\n",
              "      box-shadow: 0px 1px 3px 1px rgba(0, 0, 0, 0.15);\n",
              "      filter: drop-shadow(0px 1px 2px rgba(0, 0, 0, 0.3));\n",
              "      fill: #FFFFFF;\n",
              "    }\n",
              "  </style>\n",
              "\n",
              "      <script>\n",
              "        const buttonEl =\n",
              "          document.querySelector('#df-ef47fc89-5038-4b07-926b-ba90408f192a button.colab-df-convert');\n",
              "        buttonEl.style.display =\n",
              "          google.colab.kernel.accessAllowed ? 'block' : 'none';\n",
              "\n",
              "        async function convertToInteractive(key) {\n",
              "          const element = document.querySelector('#df-ef47fc89-5038-4b07-926b-ba90408f192a');\n",
              "          const dataTable =\n",
              "            await google.colab.kernel.invokeFunction('convertToInteractive',\n",
              "                                                     [key], {});\n",
              "          if (!dataTable) return;\n",
              "\n",
              "          const docLinkHtml = 'Like what you see? Visit the ' +\n",
              "            '<a target=\"_blank\" href=https://colab.research.google.com/notebooks/data_table.ipynb>data table notebook</a>'\n",
              "            + ' to learn more about interactive tables.';\n",
              "          element.innerHTML = '';\n",
              "          dataTable['output_type'] = 'display_data';\n",
              "          await google.colab.output.renderOutput(dataTable, element);\n",
              "          const docLink = document.createElement('div');\n",
              "          docLink.innerHTML = docLinkHtml;\n",
              "          element.appendChild(docLink);\n",
              "        }\n",
              "      </script>\n",
              "    </div>\n",
              "  </div>\n",
              "  "
            ],
            "text/plain": [
              "       obfuscated_bool  ... ratio_semicolon\n",
              "115028               1  ...        0.008942\n",
              "85481                0  ...        0.008084\n",
              "24018                0  ...        0.000065\n",
              "184850               1  ...        0.009266\n",
              "128047               1  ...        0.015062\n",
              "\n",
              "[5 rows x 22 columns]"
            ]
          },
          "metadata": {},
          "execution_count": 6
        }
      ]
    },
    {
      "cell_type": "markdown",
      "source": [
        "# Data Exploration"
      ],
      "metadata": {
        "id": "wIKYukGb-fqA"
      }
    },
    {
      "cell_type": "code",
      "source": [
        "total_data.info()"
      ],
      "metadata": {
        "colab": {
          "base_uri": "https://localhost:8080/"
        },
        "id": "c_GfM-5L-Otj",
        "outputId": "46c30123-10db-4cd9-c4ca-eb1715c5f16a"
      },
      "execution_count": 8,
      "outputs": [
        {
          "output_type": "stream",
          "name": "stdout",
          "text": [
            "<class 'pandas.core.frame.DataFrame'>\n",
            "Int64Index: 187550 entries, 115028 to 19293\n",
            "Data columns (total 22 columns):\n",
            " #   Column             Non-Null Count   Dtype  \n",
            "---  ------             --------------   -----  \n",
            " 0   obfuscated_bool    187550 non-null  object \n",
            " 1   js                 187550 non-null  object \n",
            " 2   obfuscator_name    187550 non-null  object \n",
            " 3   js_length          187550 non-null  int64  \n",
            " 4   num_spaces         187550 non-null  int64  \n",
            " 5   num_parenthesis    187550 non-null  int64  \n",
            " 6   num_slash          187550 non-null  int64  \n",
            " 7   num_plus           187550 non-null  int64  \n",
            " 8   num_point          187550 non-null  int64  \n",
            " 9   num_comma          187550 non-null  int64  \n",
            " 10  num_semicolon      187550 non-null  int64  \n",
            " 11  num_alpha          187550 non-null  int64  \n",
            " 12  num_numeric        187550 non-null  int64  \n",
            " 13  ratio_spaces       187550 non-null  float64\n",
            " 14  ratio_alpha        187550 non-null  float64\n",
            " 15  ratio_numeric      187550 non-null  float64\n",
            " 16  ratio_parenthesis  187550 non-null  float64\n",
            " 17  ratio_slash        187550 non-null  float64\n",
            " 18  ratio_plus         187550 non-null  float64\n",
            " 19  ratio_point        187550 non-null  float64\n",
            " 20  ratio_comma        187550 non-null  float64\n",
            " 21  ratio_semicolon    187550 non-null  float64\n",
            "dtypes: float64(9), int64(10), object(3)\n",
            "memory usage: 32.9+ MB\n"
          ]
        }
      ]
    },
    {
      "cell_type": "code",
      "source": [
        ""
      ],
      "metadata": {
        "id": "khPlfRHkEjYw"
      },
      "execution_count": null,
      "outputs": []
    },
    {
      "cell_type": "code",
      "source": [
        "#Converting the boolean parameter obfuscated_bool into an integer\n",
        "total_data['obfuscated_bool'] = total_data.obfuscated_bool.apply(lambda x: int(x))"
      ],
      "metadata": {
        "id": "_E4FKXUFFy-q"
      },
      "execution_count": 9,
      "outputs": []
    },
    {
      "cell_type": "code",
      "source": [
        "#We have about the same amount of data in each category. A bit less entries are obfuscated but it is not significant.\n",
        "total_data[['obfuscated_bool']].plot(kind='hist',bins=2,rwidth=0.8)\n",
        "plt.title('Obfuscated and Non-Obfuscated Data')\n",
        "plt.show()"
      ],
      "metadata": {
        "id": "lU0zaTNo-Owt",
        "colab": {
          "base_uri": "https://localhost:8080/",
          "height": 281
        },
        "outputId": "c983338a-fb8e-43ee-f8f1-7f27685ebcdd"
      },
      "execution_count": 10,
      "outputs": [
        {
          "output_type": "display_data",
          "data": {
            "image/png": "[encoded data removed]",
            "text/plain": [
              "<Figure size 432x288 with 1 Axes>"
            ]
          },
          "metadata": {
            "needs_background": "light"
          }
        }
      ]
    },
    {
      "cell_type": "code",
      "source": [
        "#We see there are much more smaller codes than bigger ones. Note that many JS codes are bigger than 15k characters and do not display here.\n",
        "total_data[['js_length']].plot(kind='hist',bins=[0,1000,2000,3000,4000,5000,6000,7000,8000,9000,10000,11000,12000,13000,14000,15000],rwidth=0.8)\n",
        "plt.title('Number of JS codes by Length (0-15k)')\n",
        "plt.show()"
      ],
      "metadata": {
        "colab": {
          "base_uri": "https://localhost:8080/",
          "height": 281
        },
        "id": "11quFrWbIRVq",
        "outputId": "3b312560-92e8-4f7e-b9ce-e6430dd85e85"
      },
      "execution_count": 11,
      "outputs": [
        {
          "output_type": "display_data",
          "data": {
            "image/png": "[encoded data removed]",
            "text/plain": [
              "<Figure size 432x288 with 1 Axes>"
            ]
          },
          "metadata": {
            "needs_background": "light"
          }
        }
      ]
    },
    {
      "cell_type": "code",
      "source": [
        "#Looking at the length of JS codes and their ratio of spaces in the non-obfuscated items doesn't show patterns\n",
        "x = total_data[total_data['obfuscator_name'] == 0].js_length\n",
        "y = total_data[total_data['obfuscator_name'] == 0].ratio_spaces\n",
        "plt.scatter(x, y)\n",
        "plt.title('Non-Obfuscated Data shown by JS length and ratio of spaces')\n",
        "plt.show()"
      ],
      "metadata": {
        "colab": {
          "base_uri": "https://localhost:8080/",
          "height": 294
        },
        "id": "-JNxjWKO-Ozn",
        "outputId": "7e48eebb-cb19-45be-bd46-96c7edf1268d"
      },
      "execution_count": 12,
      "outputs": [
        {
          "output_type": "display_data",
          "data": {
            "image/png": "[encoded data removed]",
            "text/plain": [
              "<Figure size 432x288 with 1 Axes>"
            ]
          },
          "metadata": {
            "needs_background": "light"
          }
        }
      ]
    },
    {
      "cell_type": "code",
      "source": [
        "#Looking at the length of JS codes and their ratio of spaces in the obfuscated items shows that most codes are closer to the edges of the graph\n",
        "x = total_data[total_data['obfuscator_name'] != 0].js_length\n",
        "y = total_data[total_data['obfuscator_name'] != 0].ratio_spaces\n",
        "plt.scatter(x, y)\n",
        "plt.title('Obfuscated Data shown by JS length and ratio of spaces')\n",
        "plt.show()"
      ],
      "metadata": {
        "colab": {
          "base_uri": "https://localhost:8080/",
          "height": 294
        },
        "id": "6ubEDv2RBmOI",
        "outputId": "f59130a9-d71f-4e41-dd8e-503e0c632d21"
      },
      "execution_count": 13,
      "outputs": [
        {
          "output_type": "display_data",
          "data": {
            "image/png": "[encoded data removed]",
            "text/plain": [
              "<Figure size 432x288 with 1 Axes>"
            ]
          },
          "metadata": {
            "needs_background": "light"
          }
        }
      ]
    },
    {
      "cell_type": "code",
      "source": [
        "total_data[total_data['obfuscator_name'] == 0][['ratio_parenthesis']].plot(kind='hist',bins=[0,0.01,0.02,0.03,0.04,0.05,0.06,0.07,0.08,0.09,0.1,0.11,0.12,0.13,0.14,0.15],rwidth=0.8)\n",
        "plt.title('Non-Obfuscated Data shown by ratio of parenthesis')\n",
        "plt.show()"
      ],
      "metadata": {
        "colab": {
          "base_uri": "https://localhost:8080/",
          "height": 281
        },
        "id": "SvJfS7a7NSbJ",
        "outputId": "78cc9914-1bf2-4020-ef75-a36eaf31ad34"
      },
      "execution_count": 14,
      "outputs": [
        {
          "output_type": "display_data",
          "data": {
            "image/png": "[encoded data removed]",
            "text/plain": [
              "<Figure size 432x288 with 1 Axes>"
            ]
          },
          "metadata": {
            "needs_background": "light"
          }
        }
      ]
    },
    {
      "cell_type": "code",
      "source": [
        "total_data[total_data['obfuscator_name'] != 0][['ratio_parenthesis']].plot(kind='hist',bins=[0,0.01,0.02,0.03,0.04,0.05,0.06,0.07,0.08,0.09,0.1,0.11,0.12,0.13,0.14,0.15],rwidth=0.8)\n",
        "plt.title('Obfuscated Data shown by ratio of parenthesis')\n",
        "plt.show()"
      ],
      "metadata": {
        "colab": {
          "base_uri": "https://localhost:8080/",
          "height": 281
        },
        "id": "Bur9BseONSd1",
        "outputId": "141db791-4465-49a4-93c1-ec03981ae38b"
      },
      "execution_count": 15,
      "outputs": [
        {
          "output_type": "display_data",
          "data": {
            "image/png": "[encoded data removed]",
            "text/plain": [
              "<Figure size 432x288 with 1 Axes>"
            ]
          },
          "metadata": {
            "needs_background": "light"
          }
        }
      ]
    },
    {
      "cell_type": "code",
      "source": [
        "total_data[total_data['obfuscator_name'] == 0][['ratio_semicolon']].plot(kind='hist',bins=[0,0.01,0.02,0.03,0.04,0.05,0.06,0.08,0.1],rwidth=0.8)\n",
        "plt.title('Non-Obfuscated Data shown by ratio of semicolon')\n",
        "plt.show()"
      ],
      "metadata": {
        "colab": {
          "base_uri": "https://localhost:8080/",
          "height": 281
        },
        "id": "1BvrjkVWHlRx",
        "outputId": "52443087-f22b-427c-f581-337c5aae1f8f"
      },
      "execution_count": 16,
      "outputs": [
        {
          "output_type": "display_data",
          "data": {
            "image/png": "[encoded data removed]",
            "text/plain": [
              "<Figure size 432x288 with 1 Axes>"
            ]
          },
          "metadata": {
            "needs_background": "light"
          }
        }
      ]
    },
    {
      "cell_type": "code",
      "source": [
        "total_data[total_data['obfuscator_name'] != 0][['ratio_semicolon']].plot(kind='hist',bins=[0,0.01,0.02,0.03,0.04,0.05,0.06,0.08,0.1],rwidth=0.8)\n",
        "plt.title('Obfuscated Data shown by ratio of semicolon')\n",
        "plt.show()"
      ],
      "metadata": {
        "colab": {
          "base_uri": "https://localhost:8080/",
          "height": 281
        },
        "id": "K9AmHFQVMTQT",
        "outputId": "3c21adf1-c347-423d-c9e0-6dc41067123e"
      },
      "execution_count": 17,
      "outputs": [
        {
          "output_type": "display_data",
          "data": {
            "image/png": "[encoded data removed]",
            "text/plain": [
              "<Figure size 432x288 with 1 Axes>"
            ]
          },
          "metadata": {
            "needs_background": "light"
          }
        }
      ]
    },
    {
      "cell_type": "code",
      "source": [
        ""
      ],
      "metadata": {
        "id": "frABgMduM60a"
      },
      "execution_count": null,
      "outputs": []
    }
  ]
}